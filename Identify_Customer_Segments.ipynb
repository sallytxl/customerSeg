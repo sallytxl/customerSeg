{
 "cells": [
  {
   "cell_type": "markdown",
   "metadata": {},
   "source": [
    "# Project: Identify Customer Segments\n",
    "\n",
    "In this project, you will apply unsupervised learning techniques to identify segments of the population that form the core customer base for a mail-order sales company in Germany. These segments can then be used to direct marketing campaigns towards audiences that will have the highest expected rate of returns. The data that you will use has been provided by our partners at Bertelsmann Arvato Analytics, and represents a real-life data science task.\n",
    "\n",
    "This notebook will help you complete this task by providing a framework within which you will perform your analysis steps. In each step of the project, you will see some text describing the subtask that you will perform, followed by one or more code cells for you to complete your work. **Feel free to add additional code and markdown cells as you go along so that you can explore everything in precise chunks.** The code cells provided in the base template will outline only the major tasks, and will usually not be enough to cover all of the minor tasks that comprise it.\n",
    "\n",
    "It should be noted that while there will be precise guidelines on how you should handle certain tasks in the project, there will also be places where an exact specification is not provided. **There will be times in the project where you will need to make and justify your own decisions on how to treat the data.** These are places where there may not be only one way to handle the data. In real-life tasks, there may be many valid ways to approach an analysis task. One of the most important things you can do is clearly document your approach so that other scientists can understand the decisions you've made.\n",
    "\n",
    "At the end of most sections, there will be a Markdown cell labeled **Discussion**. In these cells, you will report your findings for the completed section, as well as document the decisions that you made in your approach to each subtask. **Your project will be evaluated not just on the code used to complete the tasks outlined, but also your communication about your observations and conclusions at each stage.**"
   ]
  },
  {
   "cell_type": "code",
   "execution_count": 1,
   "metadata": {},
   "outputs": [],
   "source": [
    "# import libraries here; add more as necessary\n",
    "import numpy as np\n",
    "import pandas as pd\n",
    "import matplotlib.pyplot as plt\n",
    "import seaborn as sns\n",
    "import math\n",
    "from sklearn.cluster import KMeans\n",
    "\n",
    "# magic word for producing visualizations in notebook\n",
    "%matplotlib inline"
   ]
  },
  {
   "cell_type": "markdown",
   "metadata": {},
   "source": [
    "### Step 0: Load the Data\n",
    "\n",
    "There are four files associated with this project (not including this one):\n",
    "\n",
    "- `Udacity_AZDIAS_Subset.csv`: Demographics data for the general population of Germany; 891211 persons (rows) x 85 features (columns).\n",
    "- `Udacity_CUSTOMERS_Subset.csv`: Demographics data for customers of a mail-order company; 191652 persons (rows) x 85 features (columns).\n",
    "- `Data_Dictionary.md`: Detailed information file about the features in the provided datasets.\n",
    "- `AZDIAS_Feature_Summary.csv`: Summary of feature attributes for demographics data; 85 features (rows) x 4 columns\n",
    "\n",
    "Each row of the demographics files represents a single person, but also includes information outside of individuals, including information about their household, building, and neighborhood. You will use this information to cluster the general population into groups with similar demographic properties. Then, you will see how the people in the customers dataset fit into those created clusters. The hope here is that certain clusters are over-represented in the customers data, as compared to the general population; those over-represented clusters will be assumed to be part of the core userbase. This information can then be used for further applications, such as targeting for a marketing campaign.\n",
    "\n",
    "To start off with, load in the demographics data for the general population into a pandas DataFrame, and do the same for the feature attributes summary. Note for all of the `.csv` data files in this project: they're semicolon (`;`) delimited, so you'll need an additional argument in your [`read_csv()`](https://pandas.pydata.org/pandas-docs/stable/generated/pandas.read_csv.html) call to read in the data properly. Also, considering the size of the main dataset, it may take some time for it to load completely.\n",
    "\n",
    "Once the dataset is loaded, it's recommended that you take a little bit of time just browsing the general structure of the dataset and feature summary file. You'll be getting deep into the innards of the cleaning in the first major step of the project, so gaining some general familiarity can help you get your bearings."
   ]
  },
  {
   "cell_type": "code",
   "execution_count": 2,
   "metadata": {},
   "outputs": [],
   "source": [
    "# Load in the general demographics data.\n",
    "azdias = pd.read_csv('Udacity_AZDIAS_Subset.csv', sep = \";\") \n",
    "\n",
    "# Load in the feature summary file.\n",
    "feat_info = pd.read_csv('AZDIAS_Feature_Summary.csv', sep = \";\")"
   ]
  },
  {
   "cell_type": "code",
   "execution_count": 3,
   "metadata": {},
   "outputs": [
    {
     "name": "stdout",
     "output_type": "stream",
     "text": [
      "# Data Dictionary for Identify Customer Segments Data\n",
      "\n",
      "## Introduction\n",
      "\n",
      "The data for this project consist of two files:\n",
      "\n",
      "- Udacity_AZDIAS_Subset.csv: demographics data for the general population of\n",
      "      Germany; 891211 persons (rows) x 85 features (columns)\n",
      "- Udacity_CUSTOMERS_Subset.csv: demographics data for customers of a mail-order\n",
      "      company; 191652 persons (rows) x 85 features (columns)\n",
      "\n",
      "The columns in the general demographics file and customers data file are the\n",
      "same. This file documents the features that appear in the data files, sorted in\n",
      "order of appearance. Sections of this file is based on the level of measurement\n",
      "of each feature. The file \"AZDIAS_Feature_Summary.csv\" contains a summary of\n",
      "feature attributes, including information level, data type, and codes for\n",
      "missing or unknown values.\n",
      "\n",
      "### Table of Contents\n",
      "\n",
      " 1. Person-level features\n",
      " 2. Household-level features\n",
      " 3. Building-level features\n",
      " 4. RR4 micro-cell features\n",
      " 5. RR3 micro-cell features\n",
      " 6. Postcode-level features\n",
      " 7. RR1 neighborhood features\n",
      " 8. PLZ8 macro-cell features\n",
      " 9. Community-level features\n",
      "\n",
      "-----\n",
      "\n",
      "## 1. Person-level features\n",
      "\n",
      "### 1.1. AGER_TYP\n",
      "Best-ager typology\n",
      "- -1: unknown\n",
      "-  0: no classification possible\n",
      "-  1: passive elderly\n",
      "-  2: cultural elderly\n",
      "-  3: experience-driven elderly\n",
      "\n",
      "### 1.2. ALTERSKATEGORIE_GROB\n",
      "Estimated age based on given name analysis\n",
      "- -1: unknown (missing)\n",
      "-  0: unknown (cannot be determined)\n",
      "-  1: < 30 years old\n",
      "-  2: 30 - 45 years old\n",
      "-  3: 46 - 60 years old\n",
      "-  4: > 60 years old\n",
      "-  9: uniformly distributed\n",
      "\n",
      "### 1.3. ANREDE_KZ\n",
      "Gender\n",
      "- -1: unknown (missing)\n",
      "-  0: unknown (cannot be determined)\n",
      "-  1: male\n",
      "-  2: female\n",
      "\n",
      "### 1.4. CJT_GESAMTTYP\n",
      "Customer-Journey-Typology: preferred information and buying channels for\n",
      "consumer\n",
      "- 0: unknown\n",
      "- 1: Advertising- and Consumptionminimalist\n",
      "- 2: Advertising- and Consumptiontraditionalist\n",
      "- 3: advertisinginterested Store-shopper\n",
      "- 4: advertisinginterested Online-shopper\n",
      "- 5: Advertising- and Cross-Channel-Enthusiast\n",
      "- 6: Advertising-Enthusiast with restricted Cross-Channel-Behaviour\n",
      "\n",
      "### 1.5. FINANZ_MINIMALIST, FINANZ_SPARER, FINANZ_VORSORGER, FINANZ_ANLEGER,\n",
      "###      FINANZ_UNAUFFAELLIGER, FINANZ_HAUSBAUER\n",
      "Financial typology, for each dimension:\n",
      "- -1: unknown\n",
      "-  1: very high\n",
      "-  2: high\n",
      "-  3: average\n",
      "-  4: low\n",
      "-  5: very low\n",
      "\n",
      "Dimension translations:\n",
      "- MINIMALIST: low financial interest\n",
      "- SPARER: money-saver\n",
      "- VORSORGER: be prepared\n",
      "- ANLEGER: investor\n",
      "- UNAUFFAELLIGER: inconspicuous\n",
      "- HAUSBAUER: home ownership\n",
      "\n",
      "### 1.6. FINANZTYP\n",
      "Most descriptive financial type for individual\n",
      "- -1: unknown\n",
      "-  1: low financial interest (MINIMALIST)\n",
      "-  2: money-saver (SPARER)\n",
      "-  3: home ownership (HAUSBAUER)\n",
      "-  4: be prepared (VORSORGER)\n",
      "-  5: investor (ANLEGER)\n",
      "-  6: inconspicuous (UNAUFFAELLIGER)\n",
      "\n",
      "### 1.7. GEBURTSJAHR\n",
      "Year of birth\n",
      "- missing data encoded as 0\n",
      "\n",
      "### 1.8. GFK_URLAUBERTYP\n",
      "Vacation habits\n",
      "-  1: Event travelers\n",
      "-  2: Family-oriented vacationists\n",
      "-  3: Winter sportspeople\n",
      "-  4: Culture lovers\n",
      "-  5: Nature fans\n",
      "-  6: Hiker\n",
      "-  7: Golden ager\n",
      "-  8: Homeland-connected vacationists\n",
      "-  9: Package tour travelers\n",
      "- 10: Connoisseurs\n",
      "- 11: Active families\n",
      "- 12: Without vacation\n",
      "\n",
      "### 1.9. GREEN_AVANTGARDE\n",
      "Membership in environmental sustainability as part of youth\n",
      "- 0: not a member of green avantgarde\n",
      "- 1: member of green avantgarde\n",
      "\n",
      "### 1.10. HEALTH_TYP\n",
      "Health typology\n",
      "- -1: unknown\n",
      "-  0: classification not possible\n",
      "-  1: critical reserved\n",
      "-  2: sanitary affine  \n",
      "-  3: jaunty hedonists\n",
      "\n",
      "### 1.11. LP_LEBENSPHASE_FEIN\n",
      "Life stage, fine scale\n",
      "-  1: single low-income earners of younger age\n",
      "-  2: single low-income earners of middle age\n",
      "-  3: single average earners of younger age\n",
      "-  4: single average earners of middle age\n",
      "-  5: single low-income earners of advanced age\n",
      "-  6: single low-income earners at retirement age\n",
      "-  7: single average earners of advanced age\n",
      "-  8: single average earners at retirement age\n",
      "-  9: single independent persons\n",
      "- 10: wealthy single homeowners\n",
      "- 11: single homeowners of advanced age\n",
      "- 12: single homeowners at retirement age\n",
      "- 13: single top earners of higher age\n",
      "- 14: low-income and average earner couples of younger age\n",
      "- 15: low-income earner couples of higher age\n",
      "- 16: average earner couples of higher age\n",
      "- 17: independent couples\n",
      "- 18: wealthy homeowner couples of younger age\n",
      "- 19: homeowner couples of higher age\n",
      "- 20: top earner couples of higher age\n",
      "- 21: single parent low-income earners\n",
      "- 22: single parent average earners\n",
      "- 23: single parent high-income earners\n",
      "- 24: low-income earner families\n",
      "- 25: average earner families\n",
      "- 26: independent families\n",
      "- 27: homeowner families\n",
      "- 28: top earner families\n",
      "- 29: low-income earners of younger age from multiperson households\n",
      "- 30: average earners of younger age from multiperson households\n",
      "- 31: low-income earners of higher age from multiperson households\n",
      "- 32: average earners of higher age from multiperson households\n",
      "- 33: independent persons of younger age from multiperson households\n",
      "- 34: homeowners of younger age from multiperson households\n",
      "- 35: top earners of younger age from multiperson households\n",
      "- 36: independent persons of higher age from multiperson households\n",
      "- 37: homeowners of advanced age from multiperson households\n",
      "- 38: homeowners at retirement age from multiperson households\n",
      "- 39: top earners of middle age from multiperson households\n",
      "- 40: top earners at retirement age from multiperson households\n",
      "\n",
      "### 1.12. LP_LEBENSPHASE_GROB\n",
      "Life stage, rough scale\n",
      "-  1: single low-income and average earners of younger age\n",
      "-  2: single low-income and average earners of higher age\n",
      "-  3: single high-income earners\n",
      "-  4: single low-income and average-earner couples\n",
      "-  5: single high-income earner couples\n",
      "-  6: single parents\n",
      "-  7: single low-income and average earner families\n",
      "-  8: high-income earner families\n",
      "-  9: average earners of younger age from multiperson households\n",
      "- 10: low-income and average earners of higher age from multiperson households\n",
      "- 11: high-income earners of younger age from multiperson households\n",
      "- 12: high-income earners of higher age from multiperson households\n",
      "\n",
      "### 1.13. LP_FAMILIE_FEIN\n",
      "Family type, fine scale\n",
      "-  0: unknown\n",
      "-  1: single\n",
      "-  2: couple\n",
      "-  3: young single parent\n",
      "-  4: single parent with teenager\n",
      "-  5: single parent with child of full age\n",
      "-  6: young family\n",
      "-  7: family with teenager\n",
      "-  8: family with child of full age\n",
      "-  9: shared flat\n",
      "- 10: two-generational household\n",
      "- 11: multi-generational household\n",
      "\n",
      "### 1.14. LP_FAMILIE_GROB\n",
      "Family type, rough scale\n",
      "- 0: unknown\n",
      "- 1: single (maps to 1 in fine scale)\n",
      "- 2: couple (maps to 2 in fine scale)\n",
      "- 3: single parent (maps to 3-5 in fine scale)\n",
      "- 4: family (maps to 6-8 in fine scale)\n",
      "- 5: multiperson household (maps to 9-11 in fine scale)\n",
      "\n",
      "### 1.15. LP_STATUS_FEIN\n",
      "Social status, fine scale\n",
      "-  1: typical low-income earners\n",
      "-  2: orientation-seeking low-income earners\n",
      "-  3: aspiring low-income earners\n",
      "-  4: villagers\n",
      "-  5: minimalistic high-income earners\n",
      "-  6: independent workers\n",
      "-  7: title holder-households\n",
      "-  8: new houseowners\n",
      "-  9: houseowners\n",
      "- 10: top earners\n",
      "\n",
      "### 1.16. LP_STATUS_GROB\n",
      "Social status, rough scale\n",
      "- 1: low-income earners (maps to 1-2 in fine scale)\n",
      "- 2: average earners (maps to 3-5 in fine scale)\n",
      "- 3: independents (maps to 6-7 in fine scale)\n",
      "- 4: houseowners (maps to 8-9 in fine scale)\n",
      "- 5: top earners (maps to 10 in fine scale)\n",
      "\n",
      "### 1.17. NATIONALITAET_KZ\n",
      "Nationality based on given name analysis\n",
      "- -1: unknown\n",
      "-  0: unknown\n",
      "-  1: German-sounding\n",
      "-  2: foreign-sounding\n",
      "-  3: assimilated names\n",
      "\n",
      "### 1.18. PRAEGENDE_JUGENDJAHRE\n",
      "Dominating movement of person's youth (avantgarde vs. mainstream; east vs. west)\n",
      "- -1: unknown\n",
      "-  0: unknown\n",
      "-  1: 40s - war years (Mainstream, E+W)\n",
      "-  2: 40s - reconstruction years (Avantgarde, E+W)\n",
      "-  3: 50s - economic miracle (Mainstream, E+W)\n",
      "-  4: 50s - milk bar / Individualisation (Avantgarde, E+W)\n",
      "-  5: 60s - economic miracle (Mainstream, E+W)\n",
      "-  6: 60s - generation 68 / student protestors (Avantgarde, W)\n",
      "-  7: 60s - opponents to the building of the Wall (Avantgarde, E)\n",
      "-  8: 70s - family orientation (Mainstream, E+W)\n",
      "-  9: 70s - peace movement (Avantgarde, E+W)\n",
      "- 10: 80s - Generation Golf (Mainstream, W)\n",
      "- 11: 80s - ecological awareness (Avantgarde, W)\n",
      "- 12: 80s - FDJ / communist party youth organisation (Mainstream, E)\n",
      "- 13: 80s - Swords into ploughshares (Avantgarde, E)\n",
      "- 14: 90s - digital media kids (Mainstream, E+W)\n",
      "- 15: 90s - ecological awareness (Avantgarde, E+W)\n",
      "\n",
      "### 1.19. RETOURTYP_BK_S\n",
      "Return type\n",
      "- 0: unknown\n",
      "- 1: influenceable Crazy-Shopper\n",
      "- 2: demanding Heavy-Returner\n",
      "- 3: incentive-receptive Normal-Returner\n",
      "- 4: conservative Low-Returner\n",
      "- 5: determined Minimal-Returner\n",
      "\n",
      "### 1.20. SEMIO_SOZ, SEMIO_FAM, SEMIO_REL, SEMIO_MAT, SEMIO_VERT, SEMIO_LUST,\n",
      "###       SEMIO_ERL, SEMIO_KULT, SEMIO_RAT, SEMIO_KRIT, SEMIO_DOM, SEMIO_KAEM,\n",
      "###       SEMIO_PFLICHT, SEMIO_TRADV\n",
      "Personality typology, for each dimension:\n",
      "- -1: unknown\n",
      "-  1: highest affinity\n",
      "-  2: very high affinity\n",
      "-  3: high affinity\n",
      "-  4: average affinity\n",
      "-  5: low affinity\n",
      "-  6: very low affinity\n",
      "-  7: lowest affinity\n",
      "-  9: unknown\n",
      "\n",
      "Dimension translations:\n",
      "- SOZ: socially-minded\n",
      "- FAM: family-minded\n",
      "- REL: religious\n",
      "- MAT: materialistic\n",
      "- VERT: dreamful\n",
      "- LUST: sensual-minded\n",
      "- ERL: event-oriented\n",
      "- KULT: cultural-minded\n",
      "- RAT: rational\n",
      "- KRIT: critical-minded\n",
      "- DOM: dominant-minded\n",
      "- KAEM: combative attitude\n",
      "- PFLICHT: dutiful\n",
      "- TRADV: tradional-minded\n",
      "\n",
      "### 1.21. SHOPPER_TYP\n",
      "Shopper typology\n",
      "- -1: unknown\n",
      "-  0: external supplied hedonists\n",
      "-  1: Shopping-stressed\n",
      "-  2: family-shopper\n",
      "-  3: demanding shopper\n",
      "\n",
      "### 1.22. SOHO_KZ\n",
      "Small office / home office flag\n",
      "- -1: unknown\n",
      "- 0: no small office/home office\n",
      "- 1: small office/home office\n",
      "\n",
      "### 1.23. TITEL_KZ\n",
      "Academic title flag\n",
      "- -1: unknown\n",
      "-  0: unknown\n",
      "-  1: Dr.\n",
      "-  2: Dr. Dr.\n",
      "-  3: Prof.\n",
      "-  4: Prof. Dr.\n",
      "-  5: other\n",
      "\n",
      "### 1.24. VERS_TYP\n",
      "Insurance typology\n",
      "- -1: unknown\n",
      "-  1: social-safety driven\n",
      "-  2: individualistic-accepting risks\n",
      "\n",
      "### 1.25. ZABEOTYP\n",
      "Energy consumption typology\n",
      "- -1: unknown\n",
      "-  1: green\n",
      "-  2: smart\n",
      "-  3: fair supplied\n",
      "-  4: price driven\n",
      "-  5: seeking orientation\n",
      "-  6: indifferent\n",
      "-  9: unknown\n",
      "\n",
      "-----\n",
      "\n",
      "## 2. Household-level features\n",
      "\n",
      "### 2.1. ALTER_HH\n",
      "Birthdate of head of household\n",
      "-  0: unknown / no main age detectable\n",
      "-  1: 1895-01-01 to 1899-12-31\n",
      "-  2: 1900-01-01 to 1904-12-31\n",
      "-  3: 1905-01-01 to 1909-12-31\n",
      "-  4: 1910-01-01 to 1914-12-31\n",
      "-  5: 1915-01-01 to 1919-12-31\n",
      "-  6: 1920-01-01 to 1924-12-31\n",
      "-  7: 1925-01-01 to 1929-12-31\n",
      "-  8: 1930-01-01 to 1934-12-31\n",
      "-  9: 1935-01-01 to 1939-12-31\n",
      "- 10: 1940-01-01 to 1944-12-31\n",
      "- 11: 1945-01-01 to 1949-12-31\n",
      "- 12: 1950-01-01 to 1954-12-31\n",
      "- 13: 1955-01-01 to 1959-12-31\n",
      "- 14: 1960-01-01 to 1964-12-31\n",
      "- 15: 1965-01-01 to 1969-12-31\n",
      "- 16: 1970-01-01 to 1974-12-31\n",
      "- 17: 1975-01-01 to 1979-12-31\n",
      "- 18: 1980-01-01 to 1984-12-31\n",
      "- 19: 1985-01-01 to 1989-12-31\n",
      "- 20: 1990-01-01 to 1994-12-31\n",
      "- 21: 1995-01-01 to 1999-12-31\n",
      "\n",
      "### 2.2. ANZ_PERSONEN\n",
      "Number of adults in household\n",
      "\n",
      "### 2.3. ANZ_TITEL\n",
      "Number of professional academic title holders in household\n",
      "\n",
      "### 2.4. HH_EINKOMMEN_SCORE\n",
      "Estimated household net income\n",
      "- -1: unknown\n",
      "-  0: unknown\n",
      "-  1: highest income\n",
      "-  2: very high income\n",
      "-  3: high income\n",
      "-  4: average income\n",
      "-  5: lower income\n",
      "-  6: very low income\n",
      "\n",
      "### 2.5. KK_KUNDENTYP\n",
      "Consumer pattern over past 12 months\n",
      "- -1: unknown\n",
      "-  1: regular customer\n",
      "-  2: active customer\n",
      "-  3: new costumer\n",
      "-  4: stray customer\n",
      "-  5: inactive customer\n",
      "-  6: passive customer\n",
      "\n",
      "### 2.6. W_KEIT_KIND_HH\n",
      "Likelihood of children in household\n",
      "- -1: unknown\n",
      "-  0: unknown\n",
      "-  1: most likely\n",
      "-  2: very likely\n",
      "-  3: likely\n",
      "-  4: average\n",
      "-  5: unlikely\n",
      "-  6: very unlikely\n",
      "\n",
      "### 2.7. WOHNDAUER_2008\n",
      "Length of residence\n",
      "- -1: unknown\n",
      "-  0: unknown\n",
      "-  1: length of residence less than 1 year\n",
      "-  2: length of residence 1-2 years\n",
      "-  3: length of residence 2-3 years\n",
      "-  4: length of residence 3-4 years\n",
      "-  5: length of residence 4-5 years\n",
      "-  6: length of residence 5-6 years\n",
      "-  7: length of residence 6-7 years\n",
      "-  8: length of residence 7-10 years\n",
      "-  9: length of residence more than 10 years\n",
      "\n",
      "-----\n",
      "\n",
      "## 3. Building-level features\n",
      "\n",
      "### 3.1. ANZ_HAUSHALTE_AKTIV\n",
      "Number of households in the building\n",
      "- missing values encoded by 0\n",
      "\n",
      "### 3.2. ANZ_HH_TITEL\n",
      "Number of professional academic title holders in building\n",
      "\n",
      "### 3.3. GEBAEUDETYP\n",
      "Type of building (residential vs. commercial)\n",
      "- -1: unknown\n",
      "-  0: unknown\n",
      "-  1: residential building\n",
      "-  2: residential building buildings without actually known household\n",
      "-  3: mixed (=residential and company) building\n",
      "-  4: mixed building without actually known household or company\n",
      "-  5: company building w/o known company\n",
      "-  6: mixed building without actually known household\n",
      "-  7: company building\n",
      "-  8: mixed building without actually known company\n",
      "\n",
      "### 3.4. KONSUMNAEHE\n",
      "Distance from building to point of sale (PoS)\n",
      "- 1: building is located in a 125 x 125m grid cell (RA1), which is a\n",
      "     consumption cell\n",
      "- 2: building is located in a 250 x 250m grid cell that includes at least one\n",
      "     RA1-consumption cell\n",
      "- 3: building is located in a 500 x 500m grid cell that includes at least one\n",
      "     RA1-consumption cell\n",
      "- 4: building is located in a 1 x 1km grid cell that includes at least one\n",
      "     RA1-consumption cell\n",
      "- 5: building is located in a 2 x 2km grid cell that includes at least one\n",
      "     RA1-consumption cell\n",
      "- 6: building is located in a 10 x 10km grid cell that includes at least one\n",
      "     RA1-consumption cell\n",
      "- 7: building is not located in a 10 x 10km range of a consumption cell\n",
      "\n",
      "### 3.5. MIN_GEBAEUDEJAHR\n",
      "First year building was mentioned in the database\n",
      "- missing values encoded by 0\n",
      "\n",
      "### 3.6. OST_WEST_KZ\n",
      "Building location via former East / West Germany (GDR / FRG)\n",
      "- -1: unknown\n",
      "-  O: East (GDR)\n",
      "-  W: West (FRG)\n",
      "\n",
      "### 3.7. WOHNLAGE\n",
      "Neighborhood quality (or rural flag)\n",
      "- -1: unknown\n",
      "-  0: no score calculated\n",
      "-  1: very good neighborhood\n",
      "-  2: good neighborhood\n",
      "-  3: average neighborhood\n",
      "-  4: poor neighborhood\n",
      "-  5: very poor neighborhood\n",
      "-  7: rural neighborhood\n",
      "-  8: new building in rural neighborhood\n",
      "\n",
      "-----\n",
      "\n",
      "## 4. RR4 micro-cell features\n",
      "\n",
      "### 4.1. CAMEO_DEUG_2015\n",
      "German CAMEO: Wealth / Life Stage Typology, rough scale\n",
      "- -1: unknown\n",
      "-  1: upper class\n",
      "-  2: upper middleclass\n",
      "-  3: established middleclass\n",
      "-  4: consumption-oriented middleclass\n",
      "-  5: active middleclass\n",
      "-  6: low-consumption middleclass\n",
      "-  7: lower middleclass\n",
      "-  8: working class\n",
      "-  9: urban working class\n",
      "-  X: unknown\n",
      "\n",
      "### 4.2. CAMEO_DEU_2015\n",
      "German CAMEO: Wealth / Life Stage Typology, detailed scale\n",
      "- 1A: Work-Life-Balance\n",
      "- 1B: Wealthy Best Ager\n",
      "- 1C: Successful Songwriter\n",
      "- 1D: Old Nobility\n",
      "- 1E: City Nobility\n",
      "- 2A: Cottage Chic\n",
      "- 2B: Noble Jogger\n",
      "- 2C: Established gourmet\n",
      "- 2D: Fine Management\n",
      "- 3A: Career & Family\n",
      "- 3B: Powershopping Families\n",
      "- 3C: Rural Neighborhood\n",
      "- 3D: Secure Retirement\n",
      "- 4A: Family Starter\n",
      "- 4B: Family Life\n",
      "- 4C: String Trimmer\n",
      "- 4D: Empty Nest\n",
      "- 4E: Golden Ager\n",
      "- 5A: Younger Employees\n",
      "- 5B: Suddenly Family\n",
      "- 5C: Family First\n",
      "- 5D: Stock Market Junkies\n",
      "- 5E: Coffee Rider\n",
      "- 5F: Active Retirement\n",
      "- 6A: Jobstarter\n",
      "- 6B: Petty Bourgeois\n",
      "- 6C: Long-established\n",
      "- 6D: Sportgardener\n",
      "- 6E: Urban Parents\n",
      "- 6F: Frugal Aging\n",
      "- 7A: Journeymen\n",
      "- 7B: Mantaplatte\n",
      "- 7C: Factory Worker\n",
      "- 7D: Rear Window\n",
      "- 7E: Interested Retirees\n",
      "- 8A: Multi-culteral\n",
      "- 8B: Young & Mobile\n",
      "- 8C: Prefab\n",
      "- 8D: Town Seniors\n",
      "- 9A: First Shared Apartment\n",
      "- 9B: Temporary Workers\n",
      "- 9C: Afternoon Talk Show\n",
      "- 9D: Mini-Jobber\n",
      "- 9E: Socking Away\n",
      "- XX: unknown\n",
      "\n",
      "### 4.3. CAMEO_INTL_2015\n",
      "German CAMEO: Wealth / Life Stage Typology, mapped to international code\n",
      "- -1: unknown\n",
      "- 11: Wealthy Households - Pre-Family Couples & Singles\n",
      "- 12: Wealthy Households - Young Couples With Children\n",
      "- 13: Wealthy Households - Families With School Age Children\n",
      "- 14: Wealthy Households - Older Families &  Mature Couples\n",
      "- 15: Wealthy Households - Elders In Retirement\n",
      "- 21: Prosperous Households - Pre-Family Couples & Singles\n",
      "- 22: Prosperous Households - Young Couples With Children\n",
      "- 23: Prosperous Households - Families With School Age Children\n",
      "- 24: Prosperous Households - Older Families & Mature Couples\n",
      "- 25: Prosperous Households - Elders In Retirement\n",
      "- 31: Comfortable Households - Pre-Family Couples & Singles\n",
      "- 32: Comfortable Households - Young Couples With Children\n",
      "- 33: Comfortable Households - Families With School Age Children\n",
      "- 34: Comfortable Households - Older Families & Mature Couples\n",
      "- 35: Comfortable Households - Elders In Retirement\n",
      "- 41: Less Affluent Households - Pre-Family Couples & Singles\n",
      "- 42: Less Affluent Households - Young Couples With Children\n",
      "- 43: Less Affluent Households - Families With School Age Children\n",
      "- 44: Less Affluent Households - Older Families & Mature Couples\n",
      "- 45: Less Affluent Households - Elders In Retirement\n",
      "- 51: Poorer Households - Pre-Family Couples & Singles\n",
      "- 52: Poorer Households - Young Couples With Children\n",
      "- 53: Poorer Households - Families With School Age Children\n",
      "- 54: Poorer Households - Older Families & Mature Couples\n",
      "- 55: Poorer Households - Elders In Retirement\n",
      "- XX: unknown\n",
      "\n",
      "-----\n",
      "\n",
      "## 5. RR3 micro-cell features\n",
      "\n",
      "### 5.1. KBA05_ANTG1\n",
      "Number of 1-2 family houses in the microcell\n",
      "- -1: unknown\n",
      "-  0: no 1-2 family homes\n",
      "-  1: lower share of 1-2 family homes\n",
      "-  2: average share of 1-2 family homes\n",
      "-  3: high share of 1-2 family homes\n",
      "-  4: very high share of 1-2 family homes\n",
      "\n",
      "### 5.2. KBA05_ANTG2\n",
      "Number of 3-5 family houses in the microcell\n",
      "- -1: unknown\n",
      "-  0: no 3-5 family homes\n",
      "-  1: lower share of 3-5 family homes\n",
      "-  2: average share of 3-5 family homes\n",
      "-  3: high share of 3-5 family homes\n",
      "-  4: very high share of 3-5 family homes\n",
      "\n",
      "### 5.3. KBA05_ANTG3\n",
      "Number of 6-10 family houses in the microcell\n",
      "- -1: unknown\n",
      "-  0: no 6-10 family homes\n",
      "-  1: lower share of 6-10 family homes\n",
      "-  2: average share of 6-10 family homes\n",
      "-  3: high share of 6-10 family homes\n",
      "\n",
      "### 5.4. KBA05_ANTG4\n",
      "Number of 10+ family houses in the microcell\n",
      "- -1: unknown\n",
      "-  0: no 10+ family homes\n",
      "-  1: lower share of 10+ family homes\n",
      "-  2: high share of 10+ family homes\n",
      "\n",
      "### 5.5. KBA05_BAUMAX\n",
      "Most common building type within the microcell\n",
      "- -1: unknown\n",
      "-  0: unknown\n",
      "-  1: mainly 1-2 family homes in the microcell\n",
      "-  2: mainly 3-5 family homes in the microcell\n",
      "-  3: mainly 6-10 family homes in the microcell\n",
      "-  4: mainly 10+ family homes in the microcell\n",
      "-  5: mainly business buildings in the microcell\n",
      "\n",
      "### 5.6. KBA05_GBZ\n",
      "Number of buildings in the microcell\n",
      "- -1: unknown\n",
      "-  0: unknown\n",
      "-  1: 1-2 buildings\n",
      "-  2: 3-4 buildings\n",
      "-  3: 5-16 buildings\n",
      "-  4: 17-22 buildings\n",
      "-  5: >=23 buildings\n",
      "\n",
      "-----\n",
      "\n",
      "## 6. Postcode-level features\n",
      "\n",
      "### 6.1. BALLRAUM\n",
      "Distance to nearest urban center\n",
      "- -1: unknown\n",
      "-  1: less than 10 km\n",
      "-  2: 10 -  20 km\n",
      "-  3: 20 -  30 km\n",
      "-  4: 30 -  40 km\n",
      "-  5: 40 -  50 km\n",
      "-  6: 50 - 100 km\n",
      "-  7: more than 100 km\n",
      "\n",
      "### 6.2. EWDICHTE\n",
      "Density of households per square kilometer\n",
      "- -1: unknown\n",
      "-  1: less than 34 households per km^2\n",
      "-  2:  34 -  89 households per km^2\n",
      "-  3:  90 - 149 households per km^2\n",
      "-  4: 150 - 319 households per km^2\n",
      "-  5: 320 - 999 households per km^2\n",
      "-  6: more than 999 households per km^2\n",
      "\n",
      "### 6.3. INNENSTADT\n",
      "Distance to city center (downtown)\n",
      "- -1: unknown\n",
      "-  1: in city center\n",
      "-  2: less than 3 km to city center\n",
      "-  3:  3 -  5 km to city center\n",
      "-  4:  5 - 10 km to city center\n",
      "-  5: 10 - 20 km to city center\n",
      "-  6: 20 - 30 km to city center\n",
      "-  7: 30 - 40 km to city center\n",
      "-  8: more than 40 km to city center\n",
      "\n",
      "-----\n",
      "\n",
      "## 7. RR1 region features\n",
      "\n",
      "### 7.1. GEBAEUDETYP_RASTER\n",
      "Ratio of residential to commercial activity\n",
      "- 1: business cell\n",
      "- 2: mixed cell with high business share\n",
      "- 3: mixed cell with middle business share\n",
      "- 4: mixed cell with low business share\n",
      "- 5: residential cell\n",
      "\n",
      "### 7.2. KKK\n",
      "Purchasing power in region\n",
      "- -1; unknown\n",
      "-  0: unknown\n",
      "-  1: very high\n",
      "-  2: high\n",
      "-  3: average\n",
      "-  4: low\n",
      "\n",
      "### 7.3. MOBI_REGIO\n",
      "Movement patterns\n",
      "- 1: very high movement\n",
      "- 2: high movement\n",
      "- 3: middle movement\n",
      "- 4: low movement\n",
      "- 5: very low movement\n",
      "- 6: none\n",
      "\n",
      "### 7.4. ONLINE_AFFINITAET\n",
      "Online affinity\n",
      "- 0: none\n",
      "- 1: low\n",
      "- 2: middle\n",
      "- 3: high\n",
      "- 4: very high\n",
      "- 5: highest\n",
      "\n",
      "### 7.5. REGIOTYP\n",
      "Neighborhood typology\n",
      "- -1: unknown\n",
      "-  0: unknown\n",
      "-  1: upper class\n",
      "-  2: conservatives\n",
      "-  3: upper middle class\n",
      "-  4: middle class\n",
      "-  5: lower middle class\n",
      "-  6: traditional workers\n",
      "-  7: marginal groups\n",
      "\n",
      "-----\n",
      "\n",
      "## 8. PLZ8 macro-cell features\n",
      "\n",
      "### 8.1. KBA13_ANZAHL_PKW\n",
      "Number of cars in the PLZ8 region\n",
      "\n",
      "### 8.2. PLZ8_ANTG1\n",
      "Number of 1-2 family houses in the PLZ8 region\n",
      "- -1: unknown\n",
      "-  0: no 1-2 family homes\n",
      "-  1: lower share of 1-2 family homes\n",
      "-  2: average share of 1-2 family homes\n",
      "-  3: high share of 1-2 family homes\n",
      "-  4: very high share of 1-2 family homes\n",
      "\n",
      "### 8.3. PLZ8_ANTG2\n",
      "Number of 3-5 family houses in the PLZ8 region\n",
      "- -1: unknown\n",
      "-  0: no 3-5 family homes\n",
      "-  1: lower share of 3-5 family homes\n",
      "-  2: average share of 3-5 family homes\n",
      "-  3: high share of 3-5 family homes\n",
      "-  4: very high share of 3-5 family homes\n",
      "\n",
      "### 8.4. PLZ8_ANTG3\n",
      "Number of 6-10 family houses in the PLZ8 region\n",
      "- -1: unknown\n",
      "-  0: no 6-10 family homes\n",
      "-  1: lower share of 6-10 family homes\n",
      "-  2: average share of 6-10 family homes\n",
      "-  3: high share of 6-10 family homes\n",
      "\n",
      "### 8.5. PLZ8_ANTG4\n",
      "Number of 10+ family houses in the PLZ8 region\n",
      "- -1: unknown\n",
      "-  0: no 10+ family homes\n",
      "-  1: lower share of 10+ family homes\n",
      "-  2: high share of 10+ family homes\n",
      "\n",
      "### 8.6. PLZ8_BAUMAX\n",
      "Most common building type within the PLZ8 region\n",
      "- -1: unknown\n",
      "-  0: unknown\n",
      "-  1: mainly 1-2 family homes\n",
      "-  2: mainly 3-5 family homes\n",
      "-  3: mainly 6-10 family homes\n",
      "-  4: mainly 10+ family homes\n",
      "-  5: mainly business buildings\n",
      "\n",
      "### 8.7. PLZ8_HHZ\n",
      "Number of households within the PLZ8 region\n",
      "- -1: unknown\n",
      "-  1: less than 130 households\n",
      "-  2: 131-299 households\n",
      "-  3: 300-599 households\n",
      "-  4: 600-849 households\n",
      "-  5: more than 849 households\n",
      "\n",
      "### 8.8. PLZ8_GBZ\n",
      "Number of buildings within the PLZ8 region\n",
      "- -1: unknown\n",
      "-  1: less than 60 buildings\n",
      "-  2:  60-129 buildings\n",
      "-  3: 130-299 buildings\n",
      "-  4: 300-449 buildings\n",
      "-  5: more than 449 buildings\n",
      "\n",
      "-----\n",
      "\n",
      "## 9. Community-level features\n",
      "\n",
      "### 9.1. ARBEIT\n",
      "Share of unemployment in community\n",
      "- -1: unknown\n",
      "-  1: very low\n",
      "-  2: low\n",
      "-  3: average\n",
      "-  4: high\n",
      "-  5: very high\n",
      "-  9: unknown\n",
      "\n",
      "### 9.2. ORTSGR_KLS9\n",
      "Size of community\n",
      "- -1: unknown\n",
      "-  1: <= 2,000 inhabitants\n",
      "-  2:   2,001 to   5,000 inhabitants\n",
      "-  3:   5,001 to  10,000 inhabitants\n",
      "-  4:  10,001 to  20,000 inhabitants\n",
      "-  5:  20,001 to  50,000 inhabitants\n",
      "-  6:  50,001 to 100,000 inhabitants\n",
      "-  7: 100,001 to 300,000 inhabitants\n",
      "-  8: 300,001 to 700,000 inhabitants\n",
      "-  9: > 700,000  inhabitants\n",
      "\n",
      "### 9.3. RELAT_AB\n",
      "Share of unemployment relative to county in which community is contained\n",
      "- -1: unknown\n",
      "-  1: very low\n",
      "-  2: low\n",
      "-  3: average\n",
      "-  4: high\n",
      "-  5: very high\n",
      "-  9: unknown\n",
      "\n"
     ]
    }
   ],
   "source": [
    "file = open('Data_Dictionary.md').read()\n",
    "print(file)"
   ]
  },
  {
   "cell_type": "code",
   "execution_count": 4,
   "metadata": {
    "scrolled": true
   },
   "outputs": [
    {
     "name": "stdout",
     "output_type": "stream",
     "text": [
      "(891221, 85)\n",
      "(85, 4)\n",
      "            AGER_TYP  ALTERSKATEGORIE_GROB      ANREDE_KZ  CJT_GESAMTTYP  \\\n",
      "count  891221.000000         891221.000000  891221.000000  886367.000000   \n",
      "mean       -0.358435              2.777398       1.522098       3.632838   \n",
      "std         1.198724              1.068775       0.499512       1.595021   \n",
      "min        -1.000000              1.000000       1.000000       1.000000   \n",
      "25%        -1.000000              2.000000       1.000000       2.000000   \n",
      "50%        -1.000000              3.000000       2.000000       4.000000   \n",
      "75%        -1.000000              4.000000       2.000000       5.000000   \n",
      "max         3.000000              9.000000       2.000000       6.000000   \n",
      "\n",
      "       FINANZ_MINIMALIST  FINANZ_SPARER  FINANZ_VORSORGER  FINANZ_ANLEGER  \\\n",
      "count      891221.000000  891221.000000     891221.000000   891221.000000   \n",
      "mean            3.074528       2.821039          3.401106        3.033328   \n",
      "std             1.321055       1.464749          1.322134        1.529603   \n",
      "min             1.000000       1.000000          1.000000        1.000000   \n",
      "25%             2.000000       1.000000          3.000000        2.000000   \n",
      "50%             3.000000       3.000000          3.000000        3.000000   \n",
      "75%             4.000000       4.000000          5.000000        5.000000   \n",
      "max             5.000000       5.000000          5.000000        5.000000   \n",
      "\n",
      "       FINANZ_UNAUFFAELLIGER  FINANZ_HAUSBAUER      ...          PLZ8_ANTG1  \\\n",
      "count          891221.000000     891221.000000      ...       774706.000000   \n",
      "mean                2.874167          3.075121      ...            2.253330   \n",
      "std                 1.486731          1.353248      ...            0.972008   \n",
      "min                 1.000000          1.000000      ...            0.000000   \n",
      "25%                 2.000000          2.000000      ...            1.000000   \n",
      "50%                 3.000000          3.000000      ...            2.000000   \n",
      "75%                 4.000000          4.000000      ...            3.000000   \n",
      "max                 5.000000          5.000000      ...            4.000000   \n",
      "\n",
      "          PLZ8_ANTG2     PLZ8_ANTG3     PLZ8_ANTG4    PLZ8_BAUMAX  \\\n",
      "count  774706.000000  774706.000000  774706.000000  774706.000000   \n",
      "mean        2.801858       1.595426       0.699166       1.943913   \n",
      "std         0.920309       0.986736       0.727137       1.459654   \n",
      "min         0.000000       0.000000       0.000000       1.000000   \n",
      "25%         2.000000       1.000000       0.000000       1.000000   \n",
      "50%         3.000000       2.000000       1.000000       1.000000   \n",
      "75%         3.000000       2.000000       1.000000       3.000000   \n",
      "max         4.000000       3.000000       2.000000       5.000000   \n",
      "\n",
      "            PLZ8_HHZ       PLZ8_GBZ         ARBEIT    ORTSGR_KLS9  \\\n",
      "count  774706.000000  774706.000000  794005.000000  794005.000000   \n",
      "mean        3.612821       3.381087       3.167854       5.293002   \n",
      "std         0.973967       1.111598       1.002376       2.303739   \n",
      "min         1.000000       1.000000       1.000000       0.000000   \n",
      "25%         3.000000       3.000000       3.000000       4.000000   \n",
      "50%         4.000000       3.000000       3.000000       5.000000   \n",
      "75%         4.000000       4.000000       4.000000       7.000000   \n",
      "max         5.000000       5.000000       9.000000       9.000000   \n",
      "\n",
      "           RELAT_AB  \n",
      "count  794005.00000  \n",
      "mean        3.07222  \n",
      "std         1.36298  \n",
      "min         1.00000  \n",
      "25%         2.00000  \n",
      "50%         3.00000  \n",
      "75%         4.00000  \n",
      "max         9.00000  \n",
      "\n",
      "[8 rows x 81 columns]\n",
      "   AGER_TYP  ALTERSKATEGORIE_GROB  ANREDE_KZ  CJT_GESAMTTYP  \\\n",
      "0        -1                     2          1            2.0   \n",
      "1        -1                     1          2            5.0   \n",
      "2        -1                     3          2            3.0   \n",
      "3         2                     4          2            2.0   \n",
      "4        -1                     3          1            5.0   \n",
      "\n",
      "   FINANZ_MINIMALIST  FINANZ_SPARER  FINANZ_VORSORGER  FINANZ_ANLEGER  \\\n",
      "0                  3              4                 3               5   \n",
      "1                  1              5                 2               5   \n",
      "2                  1              4                 1               2   \n",
      "3                  4              2                 5               2   \n",
      "4                  4              3                 4               1   \n",
      "\n",
      "   FINANZ_UNAUFFAELLIGER  FINANZ_HAUSBAUER    ...     PLZ8_ANTG1  PLZ8_ANTG2  \\\n",
      "0                      5                 3    ...            NaN         NaN   \n",
      "1                      4                 5    ...            2.0         3.0   \n",
      "2                      3                 5    ...            3.0         3.0   \n",
      "3                      1                 2    ...            2.0         2.0   \n",
      "4                      3                 2    ...            2.0         4.0   \n",
      "\n",
      "   PLZ8_ANTG3  PLZ8_ANTG4  PLZ8_BAUMAX  PLZ8_HHZ  PLZ8_GBZ  ARBEIT  \\\n",
      "0         NaN         NaN          NaN       NaN       NaN     NaN   \n",
      "1         2.0         1.0          1.0       5.0       4.0     3.0   \n",
      "2         1.0         0.0          1.0       4.0       4.0     3.0   \n",
      "3         2.0         0.0          1.0       3.0       4.0     2.0   \n",
      "4         2.0         1.0          2.0       3.0       3.0     4.0   \n",
      "\n",
      "   ORTSGR_KLS9  RELAT_AB  \n",
      "0          NaN       NaN  \n",
      "1          5.0       4.0  \n",
      "2          5.0       2.0  \n",
      "3          3.0       3.0  \n",
      "4          6.0       5.0  \n",
      "\n",
      "[5 rows x 85 columns]\n"
     ]
    },
    {
     "data": {
      "text/plain": [
       "(array([ 677503.,       0.,    8340.,       0.,       0.,   79802.,\n",
       "              0.,   98472.,       0.,   27104.]),\n",
       " array([-1. , -0.6, -0.2,  0.2,  0.6,  1. ,  1.4,  1.8,  2.2,  2.6,  3. ]),\n",
       " <a list of 10 Patch objects>)"
      ]
     },
     "execution_count": 4,
     "metadata": {},
     "output_type": "execute_result"
    },
    {
     "data": {
      "image/png": "[encoded data removed]",
      "text/plain": [
       "<matplotlib.figure.Figure at 0x7fcac9524240>"
      ]
     },
     "metadata": {
      "needs_background": "light"
     },
     "output_type": "display_data"
    }
   ],
   "source": [
    "# Check the structure of the data after it's loaded (e.g. print the number of\n",
    "# rows and columns, print the first few rows).\n",
    "print(azdias.shape)\n",
    "print(feat_info.shape)\n",
    "print(azdias.describe())\n",
    "print(azdias.head())\n",
    "plt.hist(azdias['AGER_TYP'],bins=10)"
   ]
  },
  {
   "cell_type": "code",
   "execution_count": 5,
   "metadata": {},
   "outputs": [
    {
     "name": "stdout",
     "output_type": "stream",
     "text": [
      "                attribute information_level         type missing_or_unknown\n",
      "0                AGER_TYP            person  categorical             [-1,0]\n",
      "1    ALTERSKATEGORIE_GROB            person      ordinal           [-1,0,9]\n",
      "2               ANREDE_KZ            person  categorical             [-1,0]\n",
      "3           CJT_GESAMTTYP            person  categorical                [0]\n",
      "4       FINANZ_MINIMALIST            person      ordinal               [-1]\n",
      "5           FINANZ_SPARER            person      ordinal               [-1]\n",
      "6        FINANZ_VORSORGER            person      ordinal               [-1]\n",
      "7          FINANZ_ANLEGER            person      ordinal               [-1]\n",
      "8   FINANZ_UNAUFFAELLIGER            person      ordinal               [-1]\n",
      "9        FINANZ_HAUSBAUER            person      ordinal               [-1]\n",
      "10              FINANZTYP            person  categorical               [-1]\n",
      "11            GEBURTSJAHR            person      numeric                [0]\n",
      "12        GFK_URLAUBERTYP            person  categorical                 []\n",
      "13       GREEN_AVANTGARDE            person  categorical                 []\n",
      "14             HEALTH_TYP            person      ordinal             [-1,0]\n",
      "15    LP_LEBENSPHASE_FEIN            person        mixed                [0]\n",
      "16    LP_LEBENSPHASE_GROB            person        mixed                [0]\n",
      "17        LP_FAMILIE_FEIN            person  categorical                [0]\n",
      "18        LP_FAMILIE_GROB            person  categorical                [0]\n",
      "19         LP_STATUS_FEIN            person  categorical                [0]\n",
      "20         LP_STATUS_GROB            person  categorical                [0]\n",
      "21       NATIONALITAET_KZ            person  categorical             [-1,0]\n",
      "22  PRAEGENDE_JUGENDJAHRE            person        mixed             [-1,0]\n",
      "23         RETOURTYP_BK_S            person      ordinal                [0]\n",
      "24              SEMIO_SOZ            person      ordinal             [-1,9]\n",
      "25              SEMIO_FAM            person      ordinal             [-1,9]\n",
      "26              SEMIO_REL            person      ordinal             [-1,9]\n",
      "27              SEMIO_MAT            person      ordinal             [-1,9]\n",
      "28             SEMIO_VERT            person      ordinal             [-1,9]\n",
      "29             SEMIO_LUST            person      ordinal             [-1,9]\n",
      "..                    ...               ...          ...                ...\n",
      "55            OST_WEST_KZ          building  categorical               [-1]\n",
      "56               WOHNLAGE          building        mixed               [-1]\n",
      "57        CAMEO_DEUG_2015     microcell_rr4  categorical             [-1,X]\n",
      "58         CAMEO_DEU_2015     microcell_rr4  categorical               [XX]\n",
      "59        CAMEO_INTL_2015     microcell_rr4        mixed            [-1,XX]\n",
      "60            KBA05_ANTG1     microcell_rr3      ordinal               [-1]\n",
      "61            KBA05_ANTG2     microcell_rr3      ordinal               [-1]\n",
      "62            KBA05_ANTG3     microcell_rr3      ordinal               [-1]\n",
      "63            KBA05_ANTG4     microcell_rr3      ordinal               [-1]\n",
      "64           KBA05_BAUMAX     microcell_rr3        mixed             [-1,0]\n",
      "65              KBA05_GBZ     microcell_rr3      ordinal             [-1,0]\n",
      "66               BALLRAUM          postcode      ordinal               [-1]\n",
      "67               EWDICHTE          postcode      ordinal               [-1]\n",
      "68             INNENSTADT          postcode      ordinal               [-1]\n",
      "69     GEBAEUDETYP_RASTER        region_rr1      ordinal                 []\n",
      "70                    KKK        region_rr1      ordinal             [-1,0]\n",
      "71             MOBI_REGIO        region_rr1      ordinal                 []\n",
      "72      ONLINE_AFFINITAET        region_rr1      ordinal                 []\n",
      "73               REGIOTYP        region_rr1      ordinal             [-1,0]\n",
      "74       KBA13_ANZAHL_PKW    macrocell_plz8      numeric                 []\n",
      "75             PLZ8_ANTG1    macrocell_plz8      ordinal               [-1]\n",
      "76             PLZ8_ANTG2    macrocell_plz8      ordinal               [-1]\n",
      "77             PLZ8_ANTG3    macrocell_plz8      ordinal               [-1]\n",
      "78             PLZ8_ANTG4    macrocell_plz8      ordinal               [-1]\n",
      "79            PLZ8_BAUMAX    macrocell_plz8        mixed             [-1,0]\n",
      "80               PLZ8_HHZ    macrocell_plz8      ordinal               [-1]\n",
      "81               PLZ8_GBZ    macrocell_plz8      ordinal               [-1]\n",
      "82                 ARBEIT         community      ordinal             [-1,9]\n",
      "83            ORTSGR_KLS9         community      ordinal             [-1,0]\n",
      "84               RELAT_AB         community      ordinal             [-1,9]\n",
      "\n",
      "[85 rows x 4 columns]\n"
     ]
    }
   ],
   "source": [
    "print(feat_info)"
   ]
  },
  {
   "cell_type": "markdown",
   "metadata": {},
   "source": [
    "> **Tip**: Add additional cells to keep everything in reasonably-sized chunks! Keyboard shortcut `esc --> a` (press escape to enter command mode, then press the 'A' key) adds a new cell before the active cell, and `esc --> b` adds a new cell after the active cell. If you need to convert an active cell to a markdown cell, use `esc --> m` and to convert to a code cell, use `esc --> y`. \n",
    "\n",
    "## Step 1: Preprocessing\n",
    "\n",
    "### Step 1.1: Assess Missing Data\n",
    "\n",
    "The feature summary file contains a summary of properties for each demographics data column. You will use this file to help you make cleaning decisions during this stage of the project. First of all, you should assess the demographics data in terms of missing data. Pay attention to the following points as you perform your analysis, and take notes on what you observe. Make sure that you fill in the **Discussion** cell with your findings and decisions at the end of each step that has one!\n",
    "\n",
    "#### Step 1.1.1: Convert Missing Value Codes to NaNs\n",
    "The fourth column of the feature attributes summary (loaded in above as `feat_info`) documents the codes from the data dictionary that indicate missing or unknown data. While the file encodes this as a list (e.g. `[-1,0]`), this will get read in as a string object. You'll need to do a little bit of parsing to make use of it to identify and clean the data. Convert data that matches a 'missing' or 'unknown' value code into a numpy NaN value. You might want to see how much data takes on a 'missing' or 'unknown' code, and how much data is naturally missing, as a point of interest.\n",
    "\n",
    "**As one more reminder, you are encouraged to add additional cells to break up your analysis into manageable chunks.**"
   ]
  },
  {
   "cell_type": "code",
   "execution_count": 6,
   "metadata": {},
   "outputs": [],
   "source": [
    "# Identify missing or unknown data values and convert them to NaNs.\n",
    "\n",
    "def extract_fea_na(rowNum):\n",
    "    a=['-1','0','9']\n",
    "    i=[]\n",
    "    m=feat_info.iloc[rowNum,3]\n",
    "    n=m.strip(\"[]\").split(',')\n",
    "    for x in n:\n",
    "        if x in a:\n",
    "            i.append(int(x)) \n",
    "        else:\n",
    "            i.append(x)\n",
    "    return i\n",
    "\n",
    "cols = azdias.columns\n",
    "\n",
    "for colNum in range(0, (len(cols)-1)):\n",
    "    na_values = extract_fea_na(colNum)\n",
    "    azdias[cols[colNum]] = azdias[cols[colNum]].apply(lambda x: np.nan if x in na_values else x);\n"
   ]
  },
  {
   "cell_type": "markdown",
   "metadata": {},
   "source": [
    "#### Step 1.1.2: Assess Missing Data in Each Column\n",
    "\n",
    "How much missing data is present in each column? There are a few columns that are outliers in terms of the proportion of values that are missing. You will want to use matplotlib's [`hist()`](https://matplotlib.org/api/_as_gen/matplotlib.pyplot.hist.html) function to visualize the distribution of missing value counts to find these columns. Identify and document these columns. While some of these columns might have justifications for keeping or re-encoding the data, for this project you should just remove them from the dataframe. (Feel free to make remarks about these outlier columns in the discussion, however!)\n",
    "\n",
    "For the remaining features, are there any patterns in which columns have, or share, missing data?"
   ]
  },
  {
   "cell_type": "code",
   "execution_count": 7,
   "metadata": {
    "scrolled": true
   },
   "outputs": [],
   "source": [
    "# Perform an assessment of how much missing data there is in each column of the\n",
    "# dataset.\n",
    "na_counts = azdias.isnull().sum()"
   ]
  },
  {
   "cell_type": "code",
   "execution_count": 8,
   "metadata": {},
   "outputs": [
    {
     "data": {
      "text/plain": [
       "(array([ 31.,   1.,   0.,   0.,   7.,  19.,  12.,   6.,   3.,   0.,   0.,\n",
       "          0.,   0.,   0.,   0.,   0.,   0.,   1.,   0.,   0.,   0.,   0.,\n",
       "          1.,   0.,   0.,   0.,   1.,   0.,   0.,   0.,   0.,   0.,   1.,\n",
       "          0.,   0.,   0.,   0.,   0.,   1.,   0.,   0.,   0.,   0.,   0.,\n",
       "          0.,   0.,   0.,   0.,   0.,   1.]),\n",
       " array([      0.  ,   17781.22,   35562.44,   53343.66,   71124.88,\n",
       "          88906.1 ,  106687.32,  124468.54,  142249.76,  160030.98,\n",
       "         177812.2 ,  195593.42,  213374.64,  231155.86,  248937.08,\n",
       "         266718.3 ,  284499.52,  302280.74,  320061.96,  337843.18,\n",
       "         355624.4 ,  373405.62,  391186.84,  408968.06,  426749.28,\n",
       "         444530.5 ,  462311.72,  480092.94,  497874.16,  515655.38,\n",
       "         533436.6 ,  551217.82,  568999.04,  586780.26,  604561.48,\n",
       "         622342.7 ,  640123.92,  657905.14,  675686.36,  693467.58,\n",
       "         711248.8 ,  729030.02,  746811.24,  764592.46,  782373.68,\n",
       "         800154.9 ,  817936.12,  835717.34,  853498.56,  871279.78,  889061.  ]),\n",
       " <a list of 50 Patch objects>)"
      ]
     },
     "execution_count": 8,
     "metadata": {},
     "output_type": "execute_result"
    },
    {
     "data": {
      "image/png": "[encoded data removed]",
      "text/plain": [
       "<matplotlib.figure.Figure at 0x7fcac94bd470>"
      ]
     },
     "metadata": {
      "needs_background": "light"
     },
     "output_type": "display_data"
    }
   ],
   "source": [
    "# Investigate patterns in the amount of missing data in each column.\n",
    "plt.hist(na_counts,bins=50)\n",
    "#print(na_counts)\n",
    "#sum(x<10000 for x in na_counts)\n"
   ]
  },
  {
   "cell_type": "code",
   "execution_count": 9,
   "metadata": {},
   "outputs": [
    {
     "name": "stdout",
     "output_type": "stream",
     "text": [
      "[0, 11, 40, 43, 47, 64]\n"
     ]
    }
   ],
   "source": [
    "# Remove the outlier columns from the dataset. (You'll perform other data\n",
    "# engineering tasks such as re-encoding and imputation later.)\n",
    "\n",
    "rm_col = [index for index,value in enumerate(na_counts) if value/azdias.shape[0] > 0.25]\n",
    "print(rm_col)\n",
    "azdias.drop(azdias.columns[rm_col], axis=1, inplace=True)"
   ]
  },
  {
   "cell_type": "code",
   "execution_count": 10,
   "metadata": {},
   "outputs": [
    {
     "data": {
      "text/plain": [
       "(891221, 79)"
      ]
     },
     "execution_count": 10,
     "metadata": {},
     "output_type": "execute_result"
    }
   ],
   "source": [
    "azdias.shape"
   ]
  },
  {
   "cell_type": "code",
   "execution_count": 11,
   "metadata": {
    "scrolled": true
   },
   "outputs": [
    {
     "data": {
      "text/plain": [
       "(array([ 25.,   6.,   0.,   0.,   0.,   1.,   0.,   0.,   0.,   0.,   0.,\n",
       "          0.,   0.,   0.,   0.,   0.,   0.,   0.,   0.,   0.,   0.,   0.,\n",
       "          0.,   5.,   2.,   0.,   0.,   0.,   0.,   9.,   5.,   4.,   0.,\n",
       "          1.,   2.,   3.,   7.,   0.,   0.,   0.,   0.,   0.,   6.,   0.,\n",
       "          0.,   0.,   1.,   0.,   0.,   2.]),\n",
       " array([      0.  ,    3161.28,    6322.56,    9483.84,   12645.12,\n",
       "          15806.4 ,   18967.68,   22128.96,   25290.24,   28451.52,\n",
       "          31612.8 ,   34774.08,   37935.36,   41096.64,   44257.92,\n",
       "          47419.2 ,   50580.48,   53741.76,   56903.04,   60064.32,\n",
       "          63225.6 ,   66386.88,   69548.16,   72709.44,   75870.72,\n",
       "          79032.  ,   82193.28,   85354.56,   88515.84,   91677.12,\n",
       "          94838.4 ,   97999.68,  101160.96,  104322.24,  107483.52,\n",
       "         110644.8 ,  113806.08,  116967.36,  120128.64,  123289.92,\n",
       "         126451.2 ,  129612.48,  132773.76,  135935.04,  139096.32,\n",
       "         142257.6 ,  145418.88,  148580.16,  151741.44,  154902.72,  158064.  ]),\n",
       " <a list of 50 Patch objects>)"
      ]
     },
     "execution_count": 11,
     "metadata": {},
     "output_type": "execute_result"
    },
    {
     "data": {
      "image/png": "[encoded data removed]",
      "text/plain": [
       "<matplotlib.figure.Figure at 0x7fcac94b6d68>"
      ]
     },
     "metadata": {
      "needs_background": "light"
     },
     "output_type": "display_data"
    }
   ],
   "source": [
    "#visilize results after drop outlier columns\n",
    "na_counts = azdias.isnull().sum()\n",
    "plt.hist(na_counts,bins=50)"
   ]
  },
  {
   "cell_type": "code",
   "execution_count": 12,
   "metadata": {},
   "outputs": [
    {
     "data": {
      "text/plain": [
       "5035145"
      ]
     },
     "execution_count": 12,
     "metadata": {},
     "output_type": "execute_result"
    }
   ],
   "source": [
    "na_counts.sum()"
   ]
  },
  {
   "cell_type": "markdown",
   "metadata": {},
   "source": [
    "#### Discussion 1.1.2: Assess Missing Data in Each Column\n",
    "\n",
    "(Double click this cell and replace this text with your own text, reporting your observations regarding the amount of missing data in each column. Are there any patterns in missing values? Which columns were removed from the dataset?)\n",
    "Majority of columns have less then 200,000 missing values, while 6 columns are outliers with more than 200,000 missing values. They were removed from the dataset. The remaining dataset have 31 features that containing less than 10,000 missing values."
   ]
  },
  {
   "cell_type": "markdown",
   "metadata": {},
   "source": [
    "#### Step 1.1.3: Assess Missing Data in Each Row\n",
    "\n",
    "Now, you'll perform a similar assessment for the rows of the dataset. How much data is missing in each row? As with the columns, you should see some groups of points that have a very different numbers of missing values. Divide the data into two subsets: one for data points that are above some threshold for missing values, and a second subset for points below that threshold.\n",
    "\n",
    "In order to know what to do with the outlier rows, we should see if the distribution of data values on columns that are not missing data (or are missing very little data) are similar or different between the two groups. Select at least five of these columns and compare the distribution of values.\n",
    "- You can use seaborn's [`countplot()`](https://seaborn.pydata.org/generated/seaborn.countplot.html) function to create a bar chart of code frequencies and matplotlib's [`subplot()`](https://matplotlib.org/api/_as_gen/matplotlib.pyplot.subplot.html) function to put bar charts for the two subplots side by side.\n",
    "- To reduce repeated code, you might want to write a function that can perform this comparison, taking as one of its arguments a column to be compared.\n",
    "\n",
    "Depending on what you observe in your comparison, this will have implications on how you approach your conclusions later in the analysis. If the distributions of non-missing features look similar between the data with many missing values and the data with few or no missing values, then we could argue that simply dropping those points from the analysis won't present a major issue. On the other hand, if the data with many missing values looks very different from the data with few or no missing values, then we should make a note on those data as special. We'll revisit these data later on. **Either way, you should continue your analysis for now using just the subset of the data with few or no missing values.**"
   ]
  },
  {
   "cell_type": "code",
   "execution_count": 13,
   "metadata": {
    "scrolled": true
   },
   "outputs": [
    {
     "data": {
      "text/plain": [
       "5035145"
      ]
     },
     "execution_count": 13,
     "metadata": {},
     "output_type": "execute_result"
    },
    {
     "data": {
      "image/png": "[encoded data removed]",
      "text/plain": [
       "<matplotlib.figure.Figure at 0x7fcabcf770f0>"
      ]
     },
     "metadata": {
      "needs_background": "light"
     },
     "output_type": "display_data"
    }
   ],
   "source": [
    "# How much data is missing in each row of the dataset?\n",
    "azdias['na_counts_row'] = azdias.isnull().sum(axis=1)\n",
    "plt.hist(azdias['na_counts_row'],bins=50)\n",
    "azdias['na_counts_row'].sum()"
   ]
  },
  {
   "cell_type": "code",
   "execution_count": 14,
   "metadata": {},
   "outputs": [
    {
     "name": "stdout",
     "output_type": "stream",
     "text": [
      "(684506, 80)\n",
      "(206715, 80)\n"
     ]
    }
   ],
   "source": [
    "# Write code to divide the data into two subsets based on the number of missing\n",
    "# values in each row.\n",
    "azdias_low = azdias[azdias['na_counts_row'] < 4] #extract rows with less than 4 missing data for further analysis\n",
    "azdias_high = azdias[azdias['na_counts_row'] >= 4]\n",
    "\n",
    "print(azdias_low.shape)\n",
    "print(azdias_high.shape)"
   ]
  },
  {
   "cell_type": "code",
   "execution_count": 15,
   "metadata": {},
   "outputs": [
    {
     "name": "stdout",
     "output_type": "stream",
     "text": [
      "[1, 3, 4, 5, 6, 7, 8, 9, 11, 22, 23, 24, 25, 26, 27, 28, 29, 30, 31, 32, 33, 34, 35, 39]\n"
     ]
    }
   ],
   "source": [
    "# Compare the distribution of values for at least five columns where there are\n",
    "# no or few missing values, between the two subsets.\n",
    "select_col = [index for index,value in enumerate(na_counts) if value == 0] \n",
    "print(select_col)\n"
   ]
  },
  {
   "cell_type": "code",
   "execution_count": 16,
   "metadata": {
    "scrolled": true
   },
   "outputs": [
    {
     "data": {
      "image/png": "[encoded data removed]",
      "text/plain": [
       "<matplotlib.figure.Figure at 0x7fcac72cfda0>"
      ]
     },
     "metadata": {
      "needs_background": "light"
     },
     "output_type": "display_data"
    }
   ],
   "source": [
    "def countPlt(col):\n",
    "    plt.subplot(121)\n",
    "    sns.countplot(x=azdias_low.columns[col], data=azdias_low)\n",
    "    plt.subplot(122)\n",
    "    sns.countplot(x=azdias_high.columns[col], data=azdias_high)\n",
    "    \n",
    "countPlt(1)"
   ]
  },
  {
   "cell_type": "code",
   "execution_count": 17,
   "metadata": {},
   "outputs": [
    {
     "data": {
      "image/png": "[encoded data removed]",
      "text/plain": [
       "<matplotlib.figure.Figure at 0x7fcabf1c1898>"
      ]
     },
     "metadata": {
      "needs_background": "light"
     },
     "output_type": "display_data"
    }
   ],
   "source": [
    "countPlt(3)"
   ]
  },
  {
   "cell_type": "code",
   "execution_count": 18,
   "metadata": {},
   "outputs": [
    {
     "data": {
      "image/png": "[encoded data removed]",
      "text/plain": [
       "<matplotlib.figure.Figure at 0x7fcabf1305f8>"
      ]
     },
     "metadata": {
      "needs_background": "light"
     },
     "output_type": "display_data"
    }
   ],
   "source": [
    "countPlt(4)"
   ]
  },
  {
   "cell_type": "code",
   "execution_count": 19,
   "metadata": {},
   "outputs": [
    {
     "data": {
      "image/png": "[encoded data removed]",
      "text/plain": [
       "<matplotlib.figure.Figure at 0x7fcabf072940>"
      ]
     },
     "metadata": {
      "needs_background": "light"
     },
     "output_type": "display_data"
    }
   ],
   "source": [
    "countPlt(5)"
   ]
  },
  {
   "cell_type": "code",
   "execution_count": 20,
   "metadata": {},
   "outputs": [
    {
     "data": {
      "image/png": "[encoded data removed]",
      "text/plain": [
       "<matplotlib.figure.Figure at 0x7fcabefb2978>"
      ]
     },
     "metadata": {
      "needs_background": "light"
     },
     "output_type": "display_data"
    }
   ],
   "source": [
    "countPlt(6)"
   ]
  },
  {
   "cell_type": "markdown",
   "metadata": {},
   "source": [
    "#### Discussion 1.1.3: Assess Missing Data in Each Row\n",
    "(Double-click this cell and replace this text with your own text, reporting your observations regarding missing data in rows. Are the data with lots of missing values are qualitatively different from data with few or no missing values?)\n",
    "\n",
    "Answer: From the histogram of NA values in each row, a total of 94144 rows have more than 20 missing values. The dataset was divided into two groups with a threshod of 20 missing values in the row.  Five columns without any missing values were chosed for head to head comparison between these two groups and 4 of them exhibited huge differences between groups.\n"
   ]
  },
  {
   "cell_type": "markdown",
   "metadata": {},
   "source": [
    "### Step 1.2: Select and Re-Encode Features\n",
    "\n",
    "Checking for missing data isn't the only way in which you can prepare a dataset for analysis. Since the unsupervised learning techniques to be used will only work on data that is encoded numerically, you need to make a few encoding changes or additional assumptions to be able to make progress. In addition, while almost all of the values in the dataset are encoded using numbers, not all of them represent numeric values. Check the third column of the feature summary (`feat_info`) for a summary of types of measurement.\n",
    "- For numeric and interval data, these features can be kept without changes.\n",
    "- Most of the variables in the dataset are ordinal in nature. While ordinal values may technically be non-linear in spacing, make the simplifying assumption that the ordinal variables can be treated as being interval in nature (that is, kept without any changes).\n",
    "- Special handling may be necessary for the remaining two variable types: categorical, and 'mixed'.\n",
    "\n",
    "In the first two parts of this sub-step, you will perform an investigation of the categorical and mixed-type features and make a decision on each of them, whether you will keep, drop, or re-encode each. Then, in the last part, you will create a new data frame with only the selected and engineered columns.\n",
    "\n",
    "Data wrangling is often the trickiest part of the data analysis process, and there's a lot of it to be done here. But stick with it: once you're done with this step, you'll be ready to get to the machine learning parts of the project!"
   ]
  },
  {
   "cell_type": "code",
   "execution_count": 21,
   "metadata": {},
   "outputs": [
    {
     "name": "stdout",
     "output_type": "stream",
     "text": [
      "              attribute information_level         type missing_or_unknown\n",
      "0              AGER_TYP            person  categorical             [-1,0]\n",
      "1  ALTERSKATEGORIE_GROB            person      ordinal           [-1,0,9]\n",
      "2             ANREDE_KZ            person  categorical             [-1,0]\n",
      "3         CJT_GESAMTTYP            person  categorical                [0]\n",
      "4     FINANZ_MINIMALIST            person      ordinal               [-1]\n"
     ]
    },
    {
     "data": {
      "text/plain": [
       "type\n",
       "categorical    21\n",
       "interval        1\n",
       "mixed           7\n",
       "numeric         7\n",
       "ordinal        49\n",
       "dtype: int64"
      ]
     },
     "execution_count": 21,
     "metadata": {},
     "output_type": "execute_result"
    }
   ],
   "source": [
    "# How many features are there of each data type?\n",
    "print(feat_info.head())\n",
    "feat_info.groupby('type').size()"
   ]
  },
  {
   "cell_type": "code",
   "execution_count": 22,
   "metadata": {},
   "outputs": [
    {
     "name": "stdout",
     "output_type": "stream",
     "text": [
      "                attribute information_level   type missing_or_unknown\n",
      "15    LP_LEBENSPHASE_FEIN            person  mixed                [0]\n",
      "16    LP_LEBENSPHASE_GROB            person  mixed                [0]\n",
      "22  PRAEGENDE_JUGENDJAHRE            person  mixed             [-1,0]\n",
      "56               WOHNLAGE          building  mixed               [-1]\n",
      "59        CAMEO_INTL_2015     microcell_rr4  mixed            [-1,XX]\n",
      "79            PLZ8_BAUMAX    macrocell_plz8  mixed             [-1,0]\n"
     ]
    }
   ],
   "source": [
    "feat_info_filtered = feat_info.loc[feat_info['attribute'].isin(azdias_low.columns)]\n",
    "print(feat_info_filtered[feat_info_filtered['type'] == 'mixed']) #check mixed features"
   ]
  },
  {
   "cell_type": "code",
   "execution_count": 23,
   "metadata": {},
   "outputs": [
    {
     "data": {
      "image/png": "[encoded data removed]",
      "text/plain": [
       "<matplotlib.figure.Figure at 0x7fcabf052470>"
      ]
     },
     "metadata": {
      "needs_background": "light"
     },
     "output_type": "display_data"
    }
   ],
   "source": [
    "#plot mixed features\n",
    "def countPlt(col):\n",
    "    sns.countplot(x=azdias_low.columns[col], data=azdias_low)\n",
    "    \n",
    "countPlt(15)"
   ]
  },
  {
   "cell_type": "code",
   "execution_count": 24,
   "metadata": {},
   "outputs": [
    {
     "name": "stdout",
     "output_type": "stream",
     "text": [
      "           attribute information_level         type missing_or_unknown\n",
      "2          ANREDE_KZ            person  categorical             [-1,0]\n",
      "3      CJT_GESAMTTYP            person  categorical                [0]\n",
      "10         FINANZTYP            person  categorical               [-1]\n",
      "12   GFK_URLAUBERTYP            person  categorical                 []\n",
      "13  GREEN_AVANTGARDE            person  categorical                 []\n",
      "17   LP_FAMILIE_FEIN            person  categorical                [0]\n",
      "18   LP_FAMILIE_GROB            person  categorical                [0]\n",
      "19    LP_STATUS_FEIN            person  categorical                [0]\n",
      "20    LP_STATUS_GROB            person  categorical                [0]\n",
      "21  NATIONALITAET_KZ            person  categorical             [-1,0]\n",
      "38       SHOPPER_TYP            person  categorical               [-1]\n",
      "39           SOHO_KZ            person  categorical               [-1]\n",
      "41          VERS_TYP            person  categorical               [-1]\n",
      "42          ZABEOTYP            person  categorical             [-1,9]\n",
      "52       GEBAEUDETYP          building  categorical             [-1,0]\n",
      "55       OST_WEST_KZ          building  categorical               [-1]\n",
      "57   CAMEO_DEUG_2015     microcell_rr4  categorical             [-1,X]\n",
      "58    CAMEO_DEU_2015     microcell_rr4  categorical               [XX]\n"
     ]
    }
   ],
   "source": [
    "print(feat_info_filtered[feat_info_filtered['type'] == 'categorical']) #check categorical features"
   ]
  },
  {
   "cell_type": "markdown",
   "metadata": {},
   "source": [
    "#### Step 1.2.1: Re-Encode Categorical Features\n",
    "\n",
    "For categorical data, you would ordinarily need to encode the levels as dummy variables. Depending on the number of categories, perform one of the following:\n",
    "- For binary (two-level) categoricals that take numeric values, you can keep them without needing to do anything.\n",
    "- There is one binary variable that takes on non-numeric values. For this one, you need to re-encode the values as numbers or create a dummy variable.\n",
    "- For multi-level categoricals (three or more values), you can choose to encode the values using multiple dummy variables (e.g. via [OneHotEncoder](http://scikit-learn.org/stable/modules/generated/sklearn.preprocessing.OneHotEncoder.html)), or (to keep things straightforward) just drop them from the analysis. As always, document your choices in the Discussion section."
   ]
  },
  {
   "cell_type": "code",
   "execution_count": 25,
   "metadata": {
    "scrolled": false
   },
   "outputs": [
    {
     "name": "stdout",
     "output_type": "stream",
     "text": [
      "           ANREDE_KZ  CJT_GESAMTTYP      FINANZTYP  GFK_URLAUBERTYP  \\\n",
      "count  684506.000000  684506.000000  684506.000000    684506.000000   \n",
      "mean        1.512438       3.459806       3.913726         7.450586   \n",
      "std         0.499846       1.526071       2.081963         3.538009   \n",
      "min         1.000000       1.000000       1.000000         1.000000   \n",
      "25%         1.000000       2.000000       2.000000         4.000000   \n",
      "50%         2.000000       4.000000       5.000000         8.000000   \n",
      "75%         2.000000       5.000000       6.000000        11.000000   \n",
      "max         2.000000       6.000000       6.000000        12.000000   \n",
      "\n",
      "       GREEN_AVANTGARDE  LP_FAMILIE_FEIN  LP_FAMILIE_GROB  LP_STATUS_FEIN  \\\n",
      "count     684506.000000    684506.000000    684506.000000   684506.000000   \n",
      "mean           0.227707         3.939574         2.386229        4.743728   \n",
      "std            0.419353         3.962235         1.708137        3.530154   \n",
      "min            0.000000         1.000000         1.000000        1.000000   \n",
      "25%            0.000000         1.000000         1.000000        1.000000   \n",
      "50%            0.000000         1.000000         1.000000        4.000000   \n",
      "75%            0.000000         9.000000         5.000000        9.000000   \n",
      "max            1.000000        11.000000         5.000000       10.000000   \n",
      "\n",
      "       LP_STATUS_GROB  NATIONALITAET_KZ    SHOPPER_TYP        SOHO_KZ  \\\n",
      "count   684506.000000     684506.000000  684506.000000  684506.000000   \n",
      "mean         2.450174          1.167423       1.555287       0.008418   \n",
      "std          1.514322          0.471768       1.024090       0.091361   \n",
      "min          1.000000          1.000000       0.000000       0.000000   \n",
      "25%          1.000000          1.000000       1.000000       0.000000   \n",
      "50%          2.000000          1.000000       2.000000       0.000000   \n",
      "75%          4.000000          1.000000       2.000000       0.000000   \n",
      "max          5.000000          3.000000       3.000000       1.000000   \n",
      "\n",
      "            VERS_TYP       ZABEOTYP    GEBAEUDETYP  \n",
      "count  684506.000000  684506.000000  684506.000000  \n",
      "mean        1.528632       3.383456       2.834225  \n",
      "std         0.499180       1.411183       2.684240  \n",
      "min         1.000000       1.000000       1.000000  \n",
      "25%         1.000000       3.000000       1.000000  \n",
      "50%         2.000000       3.000000       1.000000  \n",
      "75%         2.000000       4.000000       3.000000  \n",
      "max         2.000000       6.000000       8.000000  \n",
      "       OST_WEST_KZ CAMEO_DEUG_2015 CAMEO_DEU_2015\n",
      "count       684506          681867         681867\n",
      "unique           2               9             44\n",
      "top              W               8             6B\n",
      "freq        534905          118528          49530\n"
     ]
    }
   ],
   "source": [
    "# Assess categorical variables: which are binary, which are multi-level, and\n",
    "# which one needs to be re-encoded?\n",
    "columns = feat_info_filtered[feat_info_filtered['type'] == 'categorical']['attribute']\n",
    "columnList = columns.tolist()\n",
    "#print(columnList)\n",
    "\n",
    "azdias_low_category = azdias_low[columnList]\n",
    "print(azdias_low_category.describe())\n",
    "print(azdias_low_category.describe(include=['object']))\n",
    "\n"
   ]
  },
  {
   "cell_type": "code",
   "execution_count": 26,
   "metadata": {
    "scrolled": true
   },
   "outputs": [
    {
     "name": "stdout",
     "output_type": "stream",
     "text": [
      "(684506, 88)\n"
     ]
    }
   ],
   "source": [
    "# Re-encode categorical variable(s) to be kept in the analysis.\n",
    "azdias_low_category_1 = azdias_low_category.drop(['CAMEO_DEU_2015'], axis=1) #CAMEO_DEU_2015 is dropped because it has too many categories and some\n",
    "                                                        # might be overlap in one person\n",
    "azdias_low_encoded = pd.concat([azdias_low, pd.get_dummies(azdias_low_category_1.select_dtypes(include = ['object']))],axis=1)\n",
    "azdias_low_encoded = azdias_low_encoded.drop(azdias_low_category.select_dtypes(include = ['object']), axis=1)\n",
    "#print(azdias_low_encoded.shape)\n",
    "#print(azdias_low.shape)\n",
    "\n",
    "#print(azdias_low_encoded.head())\n",
    "print(azdias_low_encoded.shape)"
   ]
  },
  {
   "cell_type": "markdown",
   "metadata": {},
   "source": [
    "#### Discussion 1.2.1: Re-Encode Categorical Features\n",
    "\n",
    "(Double-click this cell and replace this text with your own text, reporting your findings and decisions regarding categorical features. Which ones did you keep, which did you drop, and what engineering steps did you perform?)\n",
    "\n",
    "According to the feature summary, 18 features were categorical and 15 of them were recorded as numerical values, thus they were kept for future analysis.Multi-level categorical 'CAMEO_DEUG_2015' was kept, but 'CAMEO_DEU_2015' were droped because it has too many categories that might interfer the future analysis. 'OST_WEST_KZ'is a binary feature with two levels '0' and 'W', thus it was encoded. "
   ]
  },
  {
   "cell_type": "markdown",
   "metadata": {},
   "source": [
    "#### Step 1.2.2: Engineer Mixed-Type Features\n",
    "\n",
    "There are a handful of features that are marked as \"mixed\" in the feature summary that require special treatment in order to be included in the analysis. There are two in particular that deserve attention; the handling of the rest are up to your own choices:\n",
    "- \"PRAEGENDE_JUGENDJAHRE\" combines information on three dimensions: generation by decade, movement (mainstream vs. avantgarde), and nation (east vs. west). While there aren't enough levels to disentangle east from west, you should create two new variables to capture the other two dimensions: an interval-type variable for decade, and a binary variable for movement.\n",
    "- \"CAMEO_INTL_2015\" combines information on two axes: wealth and life stage. Break up the two-digit codes by their 'tens'-place and 'ones'-place digits into two new ordinal variables (which, for the purposes of this project, is equivalent to just treating them as their raw numeric values).\n",
    "- If you decide to keep or engineer new features around the other mixed-type features, make sure you note your steps in the Discussion section.\n",
    "\n",
    "Be sure to check `Data_Dictionary.md` for the details needed to finish these tasks."
   ]
  },
  {
   "cell_type": "code",
   "execution_count": 27,
   "metadata": {},
   "outputs": [
    {
     "name": "stdout",
     "output_type": "stream",
     "text": [
      "['LP_LEBENSPHASE_FEIN', 'LP_LEBENSPHASE_GROB', 'PRAEGENDE_JUGENDJAHRE', 'WOHNLAGE', 'CAMEO_INTL_2015', 'PLZ8_BAUMAX']\n"
     ]
    }
   ],
   "source": [
    "colums_mixed = feat_info_filtered[feat_info_filtered['type'] == 'mixed']['attribute']\n",
    "columnListMixed = colums_mixed.tolist()\n",
    "print(columnListMixed)"
   ]
  },
  {
   "cell_type": "code",
   "execution_count": 28,
   "metadata": {},
   "outputs": [
    {
     "data": {
      "text/plain": [
       "1    21.0\n",
       "2     3.0\n",
       "4    32.0\n",
       "5     8.0\n",
       "Name: LP_LEBENSPHASE_FEIN, dtype: float64"
      ]
     },
     "execution_count": 28,
     "metadata": {},
     "output_type": "execute_result"
    }
   ],
   "source": [
    "azdias_low_encoded.loc[1:5, 'LP_LEBENSPHASE_FEIN']"
   ]
  },
  {
   "cell_type": "code",
   "execution_count": 29,
   "metadata": {},
   "outputs": [],
   "source": [
    "# Investigate \"PRAEGENDE_JUGENDJAHRE\" and engineer two new variables.\n",
    "azdias_low_encoded.PRAEGENDE_JUGENDJAHRE.unique()\n",
    "PRAEGENDE_JUGENDJAHRE_decade = []\n",
    "\n",
    "for row in azdias_low_encoded['PRAEGENDE_JUGENDJAHRE']:\n",
    "    if row in [1, 2]:\n",
    "        PRAEGENDE_JUGENDJAHRE_decade.append(1)\n",
    "    elif row in [3, 4]:\n",
    "        PRAEGENDE_JUGENDJAHRE_decade.append(2)\n",
    "    elif row in [5, 6, 7]:\n",
    "        PRAEGENDE_JUGENDJAHRE_decade.append(3)\n",
    "    elif row in [8, 9]:\n",
    "        PRAEGENDE_JUGENDJAHRE_decade.append(4)    \n",
    "    elif row in [10, 11, 12, 13]:\n",
    "        PRAEGENDE_JUGENDJAHRE_decade.append(5)\n",
    "    elif row in [14, 15]:\n",
    "        PRAEGENDE_JUGENDJAHRE_decade.append(6)\n",
    "    else:\n",
    "        PRAEGENDE_JUGENDJAHRE_decade.append(np.nan)\n",
    "        \n",
    "azdias_low_encoded['PRAEGENDE_JUGENDJAHRE_decade'] = PRAEGENDE_JUGENDJAHRE_decade\n",
    "\n",
    "\n",
    "PRAEGENDE_JUGENDJAHRE_movement = []\n",
    "for row in azdias_low_encoded['PRAEGENDE_JUGENDJAHRE']:\n",
    "    if row in [1, 3, 5, 8, 10, 12, 14]:\n",
    "        PRAEGENDE_JUGENDJAHRE_movement.append(0)\n",
    "    elif row in [2, 4, 6, 7, 9, 11, 13, 15]:\n",
    "        PRAEGENDE_JUGENDJAHRE_movement.append(1)\n",
    "    else:\n",
    "        PRAEGENDE_JUGENDJAHRE_movement.append(np.nan)\n",
    "len(PRAEGENDE_JUGENDJAHRE_movement)     \n",
    "azdias_low_encoded['PRAEGENDE_JUGENDJAHRE_movement'] = PRAEGENDE_JUGENDJAHRE_movement\n",
    "\n",
    "azdias_low_encoded = azdias_low_encoded.drop(['PRAEGENDE_JUGENDJAHRE'], axis=1) "
   ]
  },
  {
   "cell_type": "code",
   "execution_count": 30,
   "metadata": {
    "scrolled": true
   },
   "outputs": [
    {
     "data": {
      "text/plain": [
       "(684506, 89)"
      ]
     },
     "execution_count": 30,
     "metadata": {},
     "output_type": "execute_result"
    }
   ],
   "source": [
    "azdias_low_encoded.shape"
   ]
  },
  {
   "cell_type": "code",
   "execution_count": 31,
   "metadata": {},
   "outputs": [
    {
     "data": {
      "text/plain": [
       "1     51\n",
       "2     24\n",
       "4     43\n",
       "5     54\n",
       "6     22\n",
       "7     14\n",
       "8     13\n",
       "9     15\n",
       "10    51\n",
       "18    24\n",
       "19    34\n",
       "21    55\n",
       "22    51\n",
       "27    51\n",
       "28    13\n",
       "29    12\n",
       "Name: CAMEO_INTL_2015, dtype: object"
      ]
     },
     "execution_count": 31,
     "metadata": {},
     "output_type": "execute_result"
    }
   ],
   "source": [
    "#azdias_low_encoded.loc[1:5, 'CAMEO_INTL_2015']\n",
    "azdias_low.loc[1:30, 'CAMEO_INTL_2015']\n",
    "#azdias_low['CAMEO_INTL_2015'].describe()"
   ]
  },
  {
   "cell_type": "code",
   "execution_count": 32,
   "metadata": {},
   "outputs": [],
   "source": [
    "# Investigate \"CAMEO_INTL_2015\" and engineer two new variables.\n",
    "CAMEO_INTL_2015_wealth = []\n",
    "CAMEO_INTL_2015_life = []\n",
    "for row in azdias_low_encoded['CAMEO_INTL_2015']:\n",
    "    if math.isnan(float(row)):\n",
    "        CAMEO_INTL_2015_wealth.append(np.nan)\n",
    "        CAMEO_INTL_2015_life.append(np.nan)\n",
    "    else:\n",
    "        CAMEO_INTL_2015_wealth.append(int(int(row)/10))\n",
    "        CAMEO_INTL_2015_life.append(int(row)%10)\n",
    "        \n",
    "azdias_low_encoded['CAMEO_INTL_2015_wealth'] = CAMEO_INTL_2015_wealth\n",
    "azdias_low_encoded['CAMEO_INTL_2015_life'] = CAMEO_INTL_2015_life\n",
    "\n",
    "azdias_low_encoded = azdias_low_encoded.drop(['CAMEO_INTL_2015'], axis=1)"
   ]
  },
  {
   "cell_type": "code",
   "execution_count": 33,
   "metadata": {},
   "outputs": [
    {
     "data": {
      "text/plain": [
       "(684506, 90)"
      ]
     },
     "execution_count": 33,
     "metadata": {},
     "output_type": "execute_result"
    }
   ],
   "source": [
    "azdias_low_encoded.shape"
   ]
  },
  {
   "cell_type": "code",
   "execution_count": 34,
   "metadata": {},
   "outputs": [],
   "source": [
    "#drop the other 4 mixed features\n",
    "azdias_low_encoded = azdias_low_encoded.drop(['LP_LEBENSPHASE_FEIN', 'LP_LEBENSPHASE_GROB', 'WOHNLAGE', 'PLZ8_BAUMAX'], axis=1) \n"
   ]
  },
  {
   "cell_type": "code",
   "execution_count": 35,
   "metadata": {},
   "outputs": [
    {
     "data": {
      "text/plain": [
       "(684506, 86)"
      ]
     },
     "execution_count": 35,
     "metadata": {},
     "output_type": "execute_result"
    }
   ],
   "source": [
    "azdias_low_encoded.shape"
   ]
  },
  {
   "cell_type": "markdown",
   "metadata": {},
   "source": [
    "#### Discussion 1.2.2: Engineer Mixed-Type Features\n",
    "\n",
    "(Double-click this cell and replace this text with your own text, reporting your findings and decisions regarding mixed-value features. Which ones did you keep, which did you drop, and what engineering steps did you perform?)\n",
    "\n",
    "Two mixed features, 'PRAEGENDE_JUGENDJAHRE' and 'CAMEO_INTL_2015' were kept, while the other mixed features, including 'LP_LEBENSPHASE_FEIN', 'LP_LEBENSPHASE_GROB',  'WOHNLAGE', 'PLZ8_BAUMAX' were removed.\n",
    "For the 'PRAEGENDE_JUGENDJAHRE' feature, its original data were divided into two new columns, 'PRAEGENDE_JUGENDJAHRE_decade' and 'PRAEGENDE_JUGENDJAHRE_movement' to include the decade information and movement type (avantgarde or mainstream), respectively. \n",
    "For the 'CAMEO_INTL_2015' feature, the original data were divided into two columns to represent the wealth and life stage typology, respectively. \n",
    "For the rest four mixed features, 'LP_LEBENSPHASE_GROB', 'WOHNLAGE' and 'PLZ8_BAUMAX' were kept. 'LP_LEBENSPHASE_FEIN' was droped because it has too many categories, it is better to use 'LP_LEBENSPHASE_GROB'. "
   ]
  },
  {
   "cell_type": "markdown",
   "metadata": {},
   "source": [
    "#### Step 1.2.3: Complete Feature Selection\n",
    "\n",
    "In order to finish this step up, you need to make sure that your data frame now only has the columns that you want to keep. To summarize, the dataframe should consist of the following:\n",
    "- All numeric, interval, and ordinal type columns from the original dataset.\n",
    "- Binary categorical features (all numerically-encoded).\n",
    "- Engineered features from other multi-level categorical features and mixed features.\n",
    "\n",
    "Make sure that for any new columns that you have engineered, that you've excluded the original columns from the final dataset. Otherwise, their values will interfere with the analysis later on the project. For example, you should not keep \"PRAEGENDE_JUGENDJAHRE\", since its values won't be useful for the algorithm: only the values derived from it in the engineered features you created should be retained. As a reminder, your data should only be from **the subset with few or no missing values**."
   ]
  },
  {
   "cell_type": "code",
   "execution_count": 36,
   "metadata": {},
   "outputs": [],
   "source": [
    "# If there are other re-engineering tasks you need to perform, make sure you\n",
    "# take care of them here. (Dealing with missing data will come in step 2.1.)\n",
    "\n"
   ]
  },
  {
   "cell_type": "code",
   "execution_count": 37,
   "metadata": {},
   "outputs": [],
   "source": [
    "# Do whatever you need to in order to ensure that the dataframe only contains\n",
    "# the columns that should be passed to the algorithm functions.\n",
    "\n"
   ]
  },
  {
   "cell_type": "markdown",
   "metadata": {},
   "source": [
    "### Step 1.3: Create a Cleaning Function\n",
    "\n",
    "Even though you've finished cleaning up the general population demographics data, it's important to look ahead to the future and realize that you'll need to perform the same cleaning steps on the customer demographics data. In this substep, complete the function below to execute the main feature selection, encoding, and re-engineering steps you performed above. Then, when it comes to looking at the customer data in Step 3, you can just run this function on that DataFrame to get the trimmed dataset in a single step."
   ]
  },
  {
   "cell_type": "code",
   "execution_count": 38,
   "metadata": {},
   "outputs": [],
   "source": [
    "def clean_data(data, feat_info):\n",
    "    \"\"\"\n",
    "    Perform feature trimming, re-encoding, and engineering for demographics\n",
    "    data\n",
    "    \n",
    "    INPUT: Demographics DataFrame\n",
    "    OUTPUT: Trimmed and cleaned demographics DataFrame\n",
    "    \"\"\"\n",
    "    \n",
    "    # Put in code here to execute all main cleaning steps:\n",
    "    # convert missing value codes into NaNs, ...\n",
    "    # remove selected columns and rows, ...    \n",
    "    # select, re-encode, and engineer column values.\n",
    "    # Return the cleaned dataframe.\n",
    "    def extract_feature_na(rowNum):\n",
    "        a=['-1','0','9']\n",
    "        i=[]\n",
    "        m=feat_info.iloc[rowNum,3]\n",
    "        n=m.strip(\"[]\").split(',')\n",
    "        for x in n:\n",
    "            if x in a:\n",
    "                i.append(int(x)) \n",
    "            else:\n",
    "                i.append(x)\n",
    "        return i\n",
    "\n",
    "    cols = data.columns\n",
    "\n",
    "    for colNum in range(0, (len(cols)-1)):\n",
    "        na_values = extract_fea_na(colNum)\n",
    "        data[cols[colNum]] = data[cols[colNum]].apply(lambda x: np.nan if x in na_values else x);\n",
    "    \n",
    "    \n",
    "    # Perform an assessment of how much missing data there is in each column of the dataset and drop outliers\n",
    "    na_counts = data.isnull().sum()\n",
    "    rm_col = [index for index,value in enumerate(na_counts) if value/data.shape[0] > 0.25]\n",
    "    data.drop(data.columns[rm_col], axis=1, inplace=True)\n",
    "\n",
    "    #calculate the number of missing data in each row and keep the data point with less than 10 missing values in each row \n",
    "    data['na_counts_row'] = data.isnull().sum(axis=1)\n",
    "    data_low = data[data['na_counts_row'] < 4]\n",
    "\n",
    "    #delete features in feature summary table that were not included in the data_low\n",
    "    feat_info_filtered = feat_info.loc[feat_info['attribute'].isin(data_low.columns)]\n",
    "\n",
    "    #extract categorical features for encoding\n",
    "    columns = feat_info_filtered[feat_info_filtered['type'] == 'categorical']['attribute']\n",
    "    columnListCategorical = columns.tolist()\n",
    "    data_low_category = data_low[columnListCategorical].drop(['CAMEO_DEU_2015'], axis=1) #CAMEO_DEU_2015 is dropped because it has too many categories and some\n",
    "                                                        # might be overlap in one person\n",
    "    data_low_encoded = pd.concat([data_low, pd.get_dummies(data_low_category.select_dtypes(include = ['object']))],axis=1)\n",
    "    data_low_encoded = data_low_encoded.drop(data_low_category.select_dtypes(include = ['object']), axis=1)\n",
    "    data_low_encoded = data_low_encoded.drop(['CAMEO_DEU_2015'], axis=1)\n",
    "    \n",
    "    #Engineer Mixed-Type Features\n",
    "    colums_mixed = feat_info_filtered[feat_info_filtered['type'] == 'mixed']['attribute']\n",
    "    columnListMixed = colums_mixed.tolist()\n",
    "\n",
    "    # Investigate \"PRAEGENDE_JUGENDJAHRE\" and engineer two new variables.\n",
    "    data_low_encoded.PRAEGENDE_JUGENDJAHRE.unique()\n",
    "    PRAEGENDE_JUGENDJAHRE_decade = []\n",
    "\n",
    "    for row in data_low_encoded['PRAEGENDE_JUGENDJAHRE']:\n",
    "        if row in [1, 2]:\n",
    "            PRAEGENDE_JUGENDJAHRE_decade.append(1)\n",
    "        elif row in [3, 4]:\n",
    "            PRAEGENDE_JUGENDJAHRE_decade.append(2)\n",
    "        elif row in [5, 6, 7]:\n",
    "            PRAEGENDE_JUGENDJAHRE_decade.append(3)\n",
    "        elif row in [8, 9]:\n",
    "            PRAEGENDE_JUGENDJAHRE_decade.append(4)    \n",
    "        elif row in [10, 11, 12, 13]:\n",
    "            PRAEGENDE_JUGENDJAHRE_decade.append(5)\n",
    "        elif row in [14, 15]:\n",
    "            PRAEGENDE_JUGENDJAHRE_decade.append(6)\n",
    "        else:\n",
    "            PRAEGENDE_JUGENDJAHRE_decade.append(np.nan)\n",
    "\n",
    "    data_low_encoded['PRAEGENDE_JUGENDJAHRE_decade'] = PRAEGENDE_JUGENDJAHRE_decade\n",
    "\n",
    "\n",
    "    PRAEGENDE_JUGENDJAHRE_movement = []\n",
    "    for row in data_low_encoded['PRAEGENDE_JUGENDJAHRE']:\n",
    "        if row in [1, 3, 5, 8, 10, 12, 14]:\n",
    "            PRAEGENDE_JUGENDJAHRE_movement.append(0)\n",
    "        elif row in [2, 4, 6, 7, 9, 11, 13, 15]:\n",
    "            PRAEGENDE_JUGENDJAHRE_movement.append(1)\n",
    "        else:\n",
    "            PRAEGENDE_JUGENDJAHRE_movement.append(np.nan)\n",
    "    len(PRAEGENDE_JUGENDJAHRE_movement)     \n",
    "    data_low_encoded['PRAEGENDE_JUGENDJAHRE_movement'] = PRAEGENDE_JUGENDJAHRE_movement\n",
    "\n",
    "    data_low_encoded = data_low_encoded.drop(['PRAEGENDE_JUGENDJAHRE'], axis=1) \n",
    "\n",
    "\n",
    "    # Investigate \"CAMEO_INTL_2015\" and engineer two new variables.\n",
    "    CAMEO_INTL_2015_wealth = []\n",
    "    CAMEO_INTL_2015_life = []\n",
    "    for row in data_low_encoded['CAMEO_INTL_2015']:\n",
    "        if math.isnan(float(row)):\n",
    "            CAMEO_INTL_2015_wealth.append(np.nan)\n",
    "            CAMEO_INTL_2015_life.append(np.nan)\n",
    "        else:\n",
    "            CAMEO_INTL_2015_wealth.append(int(int(row)/10))\n",
    "            CAMEO_INTL_2015_life.append(int(row)%10)\n",
    "\n",
    "    data_low_encoded['CAMEO_INTL_2015_wealth'] = CAMEO_INTL_2015_wealth\n",
    "    data_low_encoded['CAMEO_INTL_2015_life'] = CAMEO_INTL_2015_life\n",
    "\n",
    "    data_low_encoded = data_low_encoded.drop(['CAMEO_INTL_2015'], axis=1)\n",
    "\n",
    "    #drop the other 4 mixed features\n",
    "    data_low_encoded = data_low_encoded.drop(['LP_LEBENSPHASE_FEIN', 'LP_LEBENSPHASE_GROB', 'WOHNLAGE', 'PLZ8_BAUMAX'], axis=1) \n",
    "    return data_low_encoded    \n",
    "    "
   ]
  },
  {
   "cell_type": "markdown",
   "metadata": {},
   "source": [
    "## Step 2: Feature Transformation\n",
    "\n",
    "### Step 2.1: Apply Feature Scaling\n",
    "\n",
    "Before we apply dimensionality reduction techniques to the data, we need to perform feature scaling so that the principal component vectors are not influenced by the natural differences in scale for features. Starting from this part of the project, you'll want to keep an eye on the [API reference page for sklearn](http://scikit-learn.org/stable/modules/classes.html) to help you navigate to all of the classes and functions that you'll need. In this substep, you'll need to check the following:\n",
    "\n",
    "- sklearn requires that data not have missing values in order for its estimators to work properly. So, before applying the scaler to your data, make sure that you've cleaned the DataFrame of the remaining missing values. This can be as simple as just removing all data points with missing data, or applying an [Imputer](http://scikit-learn.org/stable/modules/generated/sklearn.preprocessing.Imputer.html) to replace all missing values. You might also try a more complicated procedure where you temporarily remove missing values in order to compute the scaling parameters before re-introducing those missing values and applying imputation. Think about how much missing data you have and what possible effects each approach might have on your analysis, and justify your decision in the discussion section below.\n",
    "- For the actual scaling function, a [StandardScaler](http://scikit-learn.org/stable/modules/generated/sklearn.preprocessing.StandardScaler.html) instance is suggested, scaling each feature to mean 0 and standard deviation 1.\n",
    "- For these classes, you can make use of the `.fit_transform()` method to both fit a procedure to the data as well as apply the transformation to the data at the same time. Don't forget to keep the fit sklearn objects handy, since you'll be applying them to the customer demographics data towards the end of the project."
   ]
  },
  {
   "cell_type": "code",
   "execution_count": 39,
   "metadata": {},
   "outputs": [],
   "source": [
    "# If you've not yet cleaned the dataset of all NaN values, then investigate and\n",
    "# do that now.\n",
    "null_data = azdias_low_encoded[azdias_low_encoded.isnull().any(axis=1)] #extract null data into a separate dataframe\n",
    "azdias_low_encoded.dropna(inplace=True)"
   ]
  },
  {
   "cell_type": "code",
   "execution_count": 40,
   "metadata": {},
   "outputs": [
    {
     "name": "stdout",
     "output_type": "stream",
     "text": [
      "(61295, 86)\n",
      "(623211, 86)\n"
     ]
    }
   ],
   "source": [
    "print(null_data.shape)\n",
    "print(azdias_low_encoded.shape)"
   ]
  },
  {
   "cell_type": "code",
   "execution_count": 41,
   "metadata": {},
   "outputs": [
    {
     "name": "stdout",
     "output_type": "stream",
     "text": [
      "    ALTERSKATEGORIE_GROB  ANREDE_KZ  CJT_GESAMTTYP  FINANZ_MINIMALIST  \\\n",
      "18                   2.0          2            6.0                  2   \n",
      "29                   4.0          2            1.0                  5   \n",
      "42                   1.0          2            5.0                  3   \n",
      "72                   4.0          2            1.0                  2   \n",
      "80                   2.0          2            6.0                  4   \n",
      "\n",
      "    FINANZ_SPARER  FINANZ_VORSORGER  FINANZ_ANLEGER  FINANZ_UNAUFFAELLIGER  \\\n",
      "18              4                 1               5                      4   \n",
      "29              1                 5               2                      1   \n",
      "42              4                 2               5                      4   \n",
      "72              1                 5               1                      1   \n",
      "80              4                 1               4                      3   \n",
      "\n",
      "    FINANZ_HAUSBAUER  FINANZTYP          ...           CAMEO_DEUG_2015_4  \\\n",
      "18                 1          1          ...                           1   \n",
      "29                 3          6          ...                           0   \n",
      "42                 2          3          ...                           1   \n",
      "72                 5          5          ...                           0   \n",
      "80                 2          6          ...                           1   \n",
      "\n",
      "    CAMEO_DEUG_2015_5  CAMEO_DEUG_2015_6  CAMEO_DEUG_2015_7  \\\n",
      "18                  0                  0                  0   \n",
      "29                  0                  0                  0   \n",
      "42                  0                  0                  0   \n",
      "72                  0                  1                  0   \n",
      "80                  0                  0                  0   \n",
      "\n",
      "    CAMEO_DEUG_2015_8  CAMEO_DEUG_2015_9  PRAEGENDE_JUGENDJAHRE_decade  \\\n",
      "18                  0                  0                           5.0   \n",
      "29                  0                  0                           3.0   \n",
      "42                  0                  0                           6.0   \n",
      "72                  0                  0                           NaN   \n",
      "80                  0                  0                           5.0   \n",
      "\n",
      "    PRAEGENDE_JUGENDJAHRE_movement  CAMEO_INTL_2015_wealth  \\\n",
      "18                             0.0                     2.0   \n",
      "29                             1.0                     1.0   \n",
      "42                             0.0                     2.0   \n",
      "72                             NaN                     3.0   \n",
      "80                             0.0                     2.0   \n",
      "\n",
      "    CAMEO_INTL_2015_life  \n",
      "18                   4.0  \n",
      "29                   2.0  \n",
      "42                   3.0  \n",
      "72                   5.0  \n",
      "80                   5.0  \n",
      "\n",
      "[5 rows x 86 columns]\n"
     ]
    }
   ],
   "source": [
    "print(null_data.head())"
   ]
  },
  {
   "cell_type": "code",
   "execution_count": 42,
   "metadata": {},
   "outputs": [
    {
     "name": "stdout",
     "output_type": "stream",
     "text": [
      "ALTERSKATEGORIE_GROB    0\n",
      "ANREDE_KZ               0\n",
      "CJT_GESAMTTYP           0\n",
      "FINANZ_MINIMALIST       0\n",
      "FINANZ_SPARER           0\n",
      "dtype: int64\n",
      "(623211, 86)\n",
      "(684506, 86)\n",
      "ALTERSKATEGORIE_GROB    0\n",
      "ANREDE_KZ               0\n",
      "CJT_GESAMTTYP           0\n",
      "FINANZ_MINIMALIST       0\n",
      "FINANZ_SPARER           0\n",
      "dtype: int64\n"
     ]
    }
   ],
   "source": [
    "# Apply feature scaling to the general population demographics data.\n",
    "from sklearn import preprocessing\n",
    "from sklearn.preprocessing import StandardScaler\n",
    "scaler = preprocessing.StandardScaler()\n",
    "print(azdias_low_encoded.isnull().sum().head())\n",
    "scaled_azdias = scaler.fit_transform(azdias_low_encoded)\n",
    "scaled_azdias = pd.DataFrame(scaled_azdias, index=azdias_low_encoded.index, columns=azdias_low_encoded.columns)\n",
    "print(scaled_azdias.shape)\n",
    "scaled_azdias = pd.concat([scaled_azdias, null_data], axis = 0)\n",
    "print(scaled_azdias.shape)\n",
    "\n",
    "print(scaled_azdias.isnull().sum().head())"
   ]
  },
  {
   "cell_type": "code",
   "execution_count": 43,
   "metadata": {
    "scrolled": true
   },
   "outputs": [
    {
     "name": "stdout",
     "output_type": "stream",
     "text": [
      "ALTERSKATEGORIE_GROB              0\n",
      "ANREDE_KZ                         0\n",
      "CJT_GESAMTTYP                     0\n",
      "FINANZ_MINIMALIST                 0\n",
      "FINANZ_SPARER                     0\n",
      "FINANZ_VORSORGER                  0\n",
      "FINANZ_ANLEGER                    0\n",
      "FINANZ_UNAUFFAELLIGER             0\n",
      "FINANZ_HAUSBAUER                  0\n",
      "FINANZTYP                         0\n",
      "GFK_URLAUBERTYP                   0\n",
      "GREEN_AVANTGARDE                  0\n",
      "HEALTH_TYP                        0\n",
      "LP_FAMILIE_FEIN                   0\n",
      "LP_FAMILIE_GROB                   0\n",
      "LP_STATUS_FEIN                    0\n",
      "LP_STATUS_GROB                    0\n",
      "NATIONALITAET_KZ                  0\n",
      "RETOURTYP_BK_S                    0\n",
      "SEMIO_SOZ                         0\n",
      "SEMIO_FAM                         0\n",
      "SEMIO_REL                         0\n",
      "SEMIO_MAT                         0\n",
      "SEMIO_VERT                        0\n",
      "SEMIO_LUST                        0\n",
      "SEMIO_ERL                         0\n",
      "SEMIO_KULT                        0\n",
      "SEMIO_RAT                         0\n",
      "SEMIO_KRIT                        0\n",
      "SEMIO_DOM                         0\n",
      "                                 ..\n",
      "KKK                               0\n",
      "MOBI_REGIO                        0\n",
      "ONLINE_AFFINITAET                 0\n",
      "REGIOTYP                          0\n",
      "KBA13_ANZAHL_PKW                  0\n",
      "PLZ8_ANTG1                        0\n",
      "PLZ8_ANTG2                        0\n",
      "PLZ8_ANTG3                        0\n",
      "PLZ8_ANTG4                        0\n",
      "PLZ8_HHZ                          0\n",
      "PLZ8_GBZ                          0\n",
      "ARBEIT                            0\n",
      "ORTSGR_KLS9                       0\n",
      "RELAT_AB                          0\n",
      "na_counts_row                     0\n",
      "OST_WEST_KZ_O                     0\n",
      "OST_WEST_KZ_W                     0\n",
      "CAMEO_DEUG_2015_1                 0\n",
      "CAMEO_DEUG_2015_2                 0\n",
      "CAMEO_DEUG_2015_3                 0\n",
      "CAMEO_DEUG_2015_4                 0\n",
      "CAMEO_DEUG_2015_5                 0\n",
      "CAMEO_DEUG_2015_6                 0\n",
      "CAMEO_DEUG_2015_7                 0\n",
      "CAMEO_DEUG_2015_8                 0\n",
      "CAMEO_DEUG_2015_9                 0\n",
      "PRAEGENDE_JUGENDJAHRE_decade      0\n",
      "PRAEGENDE_JUGENDJAHRE_movement    0\n",
      "CAMEO_INTL_2015_wealth            0\n",
      "CAMEO_INTL_2015_life              0\n",
      "Length: 86, dtype: int64\n"
     ]
    }
   ],
   "source": [
    "# fill missing values with mean column values\n",
    "from sklearn.preprocessing import Imputer\n",
    "imputer = Imputer()\n",
    "scaled_azdias_1 = imputer.fit_transform(scaled_azdias)\n",
    "scaled_azdias_2 = pd.DataFrame(scaled_azdias_1, columns=scaled_azdias.columns)\n",
    "print(scaled_azdias_2.isnull().sum())"
   ]
  },
  {
   "cell_type": "markdown",
   "metadata": {},
   "source": [
    "### Discussion 2.1: Apply Feature Scaling\n",
    "\n",
    "(Double-click this cell and replace this text with your own text, reporting your decisions regarding feature scaling.)\n",
    "\n",
    "I removed rows with missing values before scaling the dataset and then re-introduced them into the scaled dataset. Missing values were then replaced with mean values of each column."
   ]
  },
  {
   "cell_type": "markdown",
   "metadata": {},
   "source": [
    "### Step 2.2: Perform Dimensionality Reduction\n",
    "\n",
    "On your scaled data, you are now ready to apply dimensionality reduction techniques.\n",
    "\n",
    "- Use sklearn's [PCA](http://scikit-learn.org/stable/modules/generated/sklearn.decomposition.PCA.html) class to apply principal component analysis on the data, thus finding the vectors of maximal variance in the data. To start, you should not set any parameters (so all components are computed) or set a number of components that is at least half the number of features (so there's enough features to see the general trend in variability).\n",
    "- Check out the ratio of variance explained by each principal component as well as the cumulative variance explained. Try plotting the cumulative or sequential values using matplotlib's [`plot()`](https://matplotlib.org/api/_as_gen/matplotlib.pyplot.plot.html) function. Based on what you find, select a value for the number of transformed features you'll retain for the clustering part of the project.\n",
    "- Once you've made a choice for the number of components to keep, make sure you re-fit a PCA instance to perform the decided-on transformation."
   ]
  },
  {
   "cell_type": "code",
   "execution_count": 44,
   "metadata": {},
   "outputs": [],
   "source": [
    "# Apply PCA to the data.\n",
    "from sklearn.decomposition import PCA\n",
    "pca = PCA()\n",
    "principalComponents = pca.fit_transform(scaled_azdias_2)\n",
    "principalDf = pd.DataFrame(data=principalComponents)"
   ]
  },
  {
   "cell_type": "code",
   "execution_count": 45,
   "metadata": {},
   "outputs": [
    {
     "data": {
      "text/plain": [
       "(684506, 86)"
      ]
     },
     "execution_count": 45,
     "metadata": {},
     "output_type": "execute_result"
    }
   ],
   "source": [
    "principalDf.shape"
   ]
  },
  {
   "cell_type": "code",
   "execution_count": 46,
   "metadata": {
    "scrolled": true
   },
   "outputs": [
    {
     "data": {
      "text/plain": [
       "(684506, 86)"
      ]
     },
     "execution_count": 46,
     "metadata": {},
     "output_type": "execute_result"
    }
   ],
   "source": [
    "scaled_azdias_2.shape"
   ]
  },
  {
   "cell_type": "code",
   "execution_count": 47,
   "metadata": {},
   "outputs": [
    {
     "data": {
      "text/plain": [
       "array([  9.67554692e-01,   3.21455498e-02,   6.03911816e-05,\n",
       "         3.33024805e-05,   2.68430808e-05,   1.86405050e-05,\n",
       "         1.17818190e-05,   9.29747102e-06,   6.70388290e-06,\n",
       "         6.09163006e-06,   5.23495349e-06,   4.71809339e-06,\n",
       "         4.66245695e-06,   4.40343868e-06,   4.13542799e-06,\n",
       "         3.79100900e-06,   3.48720500e-06,   3.44314402e-06,\n",
       "         3.31242412e-06,   3.26107586e-06,   3.07817160e-06,\n",
       "         3.03758693e-06,   2.94930306e-06,   2.87154473e-06,\n",
       "         2.79792324e-06,   2.74462072e-06,   2.69560100e-06,\n",
       "         2.63599677e-06,   2.55630802e-06,   2.54359478e-06,\n",
       "         2.49053021e-06,   2.45891126e-06,   2.44085004e-06,\n",
       "         2.40059117e-06,   2.33962445e-06,   2.28490781e-06,\n",
       "         2.19783115e-06,   2.09830809e-06,   2.04956364e-06,\n",
       "         1.96394103e-06,   1.94896688e-06,   1.85813645e-06,\n",
       "         1.80474019e-06,   1.75064558e-06,   1.53891152e-06,\n",
       "         1.43497934e-06,   1.40109403e-06,   1.36780894e-06,\n",
       "         1.28713117e-06,   1.25505118e-06,   1.21136184e-06,\n",
       "         1.18942272e-06,   1.14349839e-06,   1.03364857e-06,\n",
       "         1.02172685e-06,   9.71567684e-07,   9.05701381e-07,\n",
       "         8.56313284e-07,   8.19428828e-07,   7.74752926e-07,\n",
       "         7.47926657e-07,   7.07739212e-07,   6.79911230e-07,\n",
       "         6.39202741e-07,   6.10864938e-07,   5.90228146e-07,\n",
       "         5.44858584e-07,   5.34596167e-07,   5.00262530e-07,\n",
       "         4.71554569e-07,   4.57060576e-07,   4.37166835e-07,\n",
       "         4.16370531e-07,   4.08388651e-07,   3.47024453e-07,\n",
       "         3.40677679e-07,   3.03935438e-07,   2.75584410e-07,\n",
       "         2.48660507e-07,   2.41244541e-07,   2.32922778e-07,\n",
       "         1.84053655e-07,   1.25269561e-07,   9.48497461e-10,\n",
       "         1.47745157e-12,   4.66765775e-13])"
      ]
     },
     "execution_count": 47,
     "metadata": {},
     "output_type": "execute_result"
    }
   ],
   "source": [
    "# Investigate the variance accounted for by each principal component.\n",
    "pca.explained_variance_ratio_"
   ]
  },
  {
   "cell_type": "code",
   "execution_count": 48,
   "metadata": {},
   "outputs": [],
   "source": [
    "# Re-apply PCA to the data while selecting for number of components to retain.\n",
    "pca = PCA(n_components = 10)\n",
    "principalComponents = pca.fit_transform(scaled_azdias_2)\n",
    "principalDf = pd.DataFrame(data=principalComponents)"
   ]
  },
  {
   "cell_type": "code",
   "execution_count": 49,
   "metadata": {},
   "outputs": [
    {
     "data": {
      "text/plain": [
       "array([  9.67554692e-01,   3.21455498e-02,   6.03911816e-05,\n",
       "         3.33024805e-05,   2.68430807e-05,   1.86404987e-05,\n",
       "         1.17817843e-05,   9.29717525e-06,   6.69993495e-06,\n",
       "         6.07479682e-06])"
      ]
     },
     "execution_count": 49,
     "metadata": {},
     "output_type": "execute_result"
    }
   ],
   "source": [
    "pca.explained_variance_ratio_"
   ]
  },
  {
   "cell_type": "markdown",
   "metadata": {},
   "source": [
    "### Discussion 2.2: Perform Dimensionality Reduction\n",
    "\n",
    "(Double-click this cell and replace this text with your own text, reporting your findings and decisions regarding dimensionality reduction. How many principal components / transformed features are you retaining for the next step of the analysis?)"
   ]
  },
  {
   "cell_type": "markdown",
   "metadata": {},
   "source": [
    "### Step 2.3: Interpret Principal Components\n",
    "\n",
    "Now that we have our transformed principal components, it's a nice idea to check out the weight of each variable on the first few components to see if they can be interpreted in some fashion.\n",
    "\n",
    "As a reminder, each principal component is a unit vector that points in the direction of highest variance (after accounting for the variance captured by earlier principal components). The further a weight is from zero, the more the principal component is in the direction of the corresponding feature. If two features have large weights of the same sign (both positive or both negative), then increases in one tend expect to be associated with increases in the other. To contrast, features with different signs can be expected to show a negative correlation: increases in one variable should result in a decrease in the other.\n",
    "\n",
    "- To investigate the features, you should map each weight to their corresponding feature name, then sort the features according to weight. The most interesting features for each principal component, then, will be those at the beginning and end of the sorted list. Use the data dictionary document to help you understand these most prominent features, their relationships, and what a positive or negative value on the principal component might indicate.\n",
    "- You should investigate and interpret feature associations from the first three principal components in this substep. To help facilitate this, you should write a function that you can call at any time to print the sorted list of feature weights, for the *i*-th principal component. This might come in handy in the next step of the project, when you interpret the tendencies of the discovered clusters."
   ]
  },
  {
   "cell_type": "code",
   "execution_count": 50,
   "metadata": {},
   "outputs": [
    {
     "data": {
      "image/png": "[encoded data removed]",
      "text/plain": [
       "<matplotlib.figure.Figure at 0x7fcabef7ecc0>"
      ]
     },
     "metadata": {
      "needs_background": "light"
     },
     "output_type": "display_data"
    }
   ],
   "source": [
    "plt.figure(figsize = (9,7))\n",
    "plt.scatter(principalComponents[:,0], principalComponents[:,9], c='goldenrod', alpha=0.5)\n",
    "plt.show()"
   ]
  },
  {
   "cell_type": "code",
   "execution_count": 51,
   "metadata": {},
   "outputs": [],
   "source": [
    "# Map weights for the first principal component to corresponding feature names\n",
    "# and then print the linked values, sorted by weight.\n",
    "# HINT: Try defining a function here or in a new cell that you can reuse in the\n",
    "# other cells.\n",
    "\n",
    "def mapWeight(df, component):\n",
    "    pca_df = pd.DataFrame(pca.components_, columns=list(df.columns))\n",
    "    pca_component = pd.DataFrame(pca_df.iloc[component])\n",
    "    print(pca_component.sort_values(component, ascending=False))"
   ]
  },
  {
   "cell_type": "code",
   "execution_count": 52,
   "metadata": {},
   "outputs": [
    {
     "name": "stdout",
     "output_type": "stream",
     "text": [
      "                                       9\n",
      "GFK_URLAUBERTYP                 0.262221\n",
      "FINANZ_HAUSBAUER                0.184645\n",
      "INNENSTADT                      0.141900\n",
      "GEBAEUDETYP                     0.132600\n",
      "LP_FAMILIE_FEIN                 0.117118\n",
      "BALLRAUM                        0.114625\n",
      "PLZ8_HHZ                        0.113093\n",
      "PLZ8_GBZ                        0.102410\n",
      "SEMIO_MAT                       0.094169\n",
      "KBA05_ANTG3                     0.088398\n",
      "KBA05_ANTG2                     0.072161\n",
      "LP_FAMILIE_GROB                 0.067502\n",
      "ANZ_HH_TITEL                    0.063452\n",
      "CAMEO_DEUG_2015_1               0.062546\n",
      "CAMEO_INTL_2015_life            0.060386\n",
      "CAMEO_DEUG_2015_5               0.055003\n",
      "SEMIO_LUST                      0.054424\n",
      "ANZ_PERSONEN                    0.051933\n",
      "SEMIO_VERT                      0.051434\n",
      "ALTERSKATEGORIE_GROB            0.045248\n",
      "FINANZ_VORSORGER                0.042720\n",
      "KBA05_ANTG4                     0.039911\n",
      "SEMIO_TRADV                     0.039574\n",
      "GREEN_AVANTGARDE                0.039469\n",
      "PRAEGENDE_JUGENDJAHRE_movement  0.039416\n",
      "ANZ_TITEL                       0.039120\n",
      "OST_WEST_KZ_W                   0.034064\n",
      "SEMIO_FAM                       0.033622\n",
      "SHOPPER_TYP                     0.031513\n",
      "PLZ8_ANTG2                      0.029914\n",
      "...                                  ...\n",
      "SEMIO_RAT                      -0.031591\n",
      "OST_WEST_KZ_O                  -0.034072\n",
      "CAMEO_DEUG_2015_4              -0.034883\n",
      "PRAEGENDE_JUGENDJAHRE_decade   -0.036277\n",
      "CAMEO_INTL_2015_wealth         -0.045505\n",
      "SEMIO_REL                      -0.048997\n",
      "SEMIO_KRIT                     -0.051737\n",
      "FINANZ_ANLEGER                 -0.055984\n",
      "SEMIO_KAEM                     -0.058986\n",
      "CJT_GESAMTTYP                  -0.059552\n",
      "CAMEO_DEUG_2015_9              -0.063680\n",
      "VERS_TYP                       -0.066945\n",
      "KONSUMNAEHE                    -0.067726\n",
      "SEMIO_KULT                     -0.077436\n",
      "HEALTH_TYP                     -0.095957\n",
      "FINANZTYP                      -0.097753\n",
      "SEMIO_PFLICHT                  -0.098485\n",
      "GEBAEUDETYP_RASTER             -0.101506\n",
      "KBA05_GBZ                      -0.104081\n",
      "EWDICHTE                       -0.105872\n",
      "MOBI_REGIO                     -0.115523\n",
      "FINANZ_MINIMALIST              -0.127400\n",
      "KBA05_ANTG1                    -0.132293\n",
      "RELAT_AB                       -0.137697\n",
      "LP_STATUS_GROB                 -0.153102\n",
      "ORTSGR_KLS9                    -0.167324\n",
      "ARBEIT                         -0.180771\n",
      "LP_STATUS_FEIN                 -0.213941\n",
      "KKK                            -0.439529\n",
      "REGIOTYP                       -0.498280\n",
      "\n",
      "[86 rows x 1 columns]\n"
     ]
    }
   ],
   "source": [
    "mapWeight(scaled_azdias_2,9)"
   ]
  },
  {
   "cell_type": "code",
   "execution_count": 53,
   "metadata": {},
   "outputs": [
    {
     "name": "stdout",
     "output_type": "stream",
     "text": [
      "                                           1\n",
      "KBA13_ANZAHL_PKW                9.458140e-01\n",
      "PLZ8_HHZ                        1.671824e-03\n",
      "PLZ8_GBZ                        1.595638e-03\n",
      "OST_WEST_KZ_W                   1.433692e-04\n",
      "GREEN_AVANTGARDE                4.541261e-05\n",
      "PRAEGENDE_JUGENDJAHRE_movement  4.451799e-05\n",
      "CAMEO_DEUG_2015_4               4.189227e-05\n",
      "CAMEO_DEUG_2015_2               2.248571e-05\n",
      "CAMEO_DEUG_2015_3               6.696653e-06\n",
      "CAMEO_DEUG_2015_1               4.028347e-06\n",
      "SOHO_KZ                        -2.564035e-07\n",
      "ANZ_TITEL                      -6.551168e-07\n",
      "CAMEO_DEUG_2015_5              -2.510840e-06\n",
      "CAMEO_DEUG_2015_6              -5.274819e-06\n",
      "CAMEO_DEUG_2015_7              -5.531330e-06\n",
      "ANZ_HH_TITEL                   -2.706964e-05\n",
      "KBA05_ANTG3                    -2.776246e-05\n",
      "FINANZ_UNAUFFAELLIGER          -6.228949e-05\n",
      "KBA05_ANTG1                    -7.664140e-05\n",
      "CAMEO_DEUG_2015_8              -7.961775e-05\n",
      "ANZ_PERSONEN                   -8.836896e-05\n",
      "CAMEO_DEUG_2015_9              -9.322648e-05\n",
      "KBA05_ANTG4                    -9.732728e-05\n",
      "KBA05_ANTG2                    -9.964405e-05\n",
      "PLZ8_ANTG3                     -1.230501e-04\n",
      "ONLINE_AFFINITAET              -1.242689e-04\n",
      "PLZ8_ANTG4                     -1.501614e-04\n",
      "PLZ8_ANTG1                     -1.675858e-04\n",
      "LP_FAMILIE_GROB                -1.681608e-04\n",
      "LP_FAMILIE_FEIN                -1.690957e-04\n",
      "...                                      ...\n",
      "ALTERSKATEGORIE_GROB           -5.892088e-04\n",
      "KBA05_GBZ                      -6.080873e-04\n",
      "RETOURTYP_BK_S                 -6.081526e-04\n",
      "SEMIO_KAEM                     -6.151847e-04\n",
      "ZABEOTYP                       -6.182636e-04\n",
      "SEMIO_MAT                      -6.185153e-04\n",
      "SEMIO_FAM                      -6.229756e-04\n",
      "SEMIO_KULT                     -6.655640e-04\n",
      "SEMIO_VERT                     -6.821481e-04\n",
      "CAMEO_INTL_2015_wealth         -7.480077e-04\n",
      "SEMIO_KRIT                     -7.585198e-04\n",
      "SEMIO_SOZ                      -7.594416e-04\n",
      "FINANZ_HAUSBAUER               -7.731972e-04\n",
      "SEMIO_ERL                      -8.017565e-04\n",
      "W_KEIT_KIND_HH                 -8.353132e-04\n",
      "KKK                            -8.479173e-04\n",
      "KONSUMNAEHE                    -8.732638e-04\n",
      "EWDICHTE                       -9.037925e-04\n",
      "SEMIO_LUST                     -9.057668e-04\n",
      "ORTSGR_KLS9                    -9.414200e-04\n",
      "BALLRAUM                       -9.763558e-04\n",
      "ARBEIT                         -1.020909e-03\n",
      "GFK_URLAUBERTYP                -1.040229e-03\n",
      "FINANZTYP                      -1.071904e-03\n",
      "RELAT_AB                       -1.123384e-03\n",
      "HH_EINKOMMEN_SCORE             -1.219827e-03\n",
      "WOHNDAUER_2008                 -1.330708e-03\n",
      "REGIOTYP                       -1.380871e-03\n",
      "ANZ_HAUSHALTE_AKTIV            -2.816921e-03\n",
      "MIN_GEBAEUDEJAHR               -3.246473e-01\n",
      "\n",
      "[86 rows x 1 columns]\n"
     ]
    }
   ],
   "source": [
    "# Map weights for the second principal component to corresponding feature names\n",
    "# and then print the linked values, sorted by weight.\n",
    "mapWeight(scaled_azdias_2,1)"
   ]
  },
  {
   "cell_type": "code",
   "execution_count": 54,
   "metadata": {},
   "outputs": [
    {
     "name": "stdout",
     "output_type": "stream",
     "text": [
      "                                       2\n",
      "ANZ_HAUSHALTE_AKTIV             0.874366\n",
      "HH_EINKOMMEN_SCORE              0.107324\n",
      "CAMEO_INTL_2015_wealth          0.099283\n",
      "ORTSGR_KLS9                     0.098563\n",
      "FINANZ_HAUSBAUER                0.092636\n",
      "EWDICHTE                        0.089995\n",
      "PLZ8_ANTG3                      0.081939\n",
      "PLZ8_ANTG4                      0.080166\n",
      "KBA05_ANTG4                     0.077163\n",
      "ZABEOTYP                        0.059819\n",
      "REGIOTYP                        0.058485\n",
      "PLZ8_ANTG2                      0.049561\n",
      "RELAT_AB                        0.049472\n",
      "GEBAEUDETYP                     0.048522\n",
      "ARBEIT                          0.047970\n",
      "CAMEO_DEUG_2015_9               0.044753\n",
      "KBA05_ANTG3                     0.041300\n",
      "W_KEIT_KIND_HH                  0.036914\n",
      "GFK_URLAUBERTYP                 0.036257\n",
      "CAMEO_DEUG_2015_8               0.032311\n",
      "KKK                             0.032040\n",
      "ANZ_HH_TITEL                    0.029078\n",
      "PLZ8_HHZ                        0.025262\n",
      "SEMIO_KAEM                      0.022002\n",
      "OST_WEST_KZ_O                   0.018820\n",
      "RETOURTYP_BK_S                  0.018741\n",
      "FINANZ_SPARER                   0.017584\n",
      "SEMIO_KRIT                      0.015943\n",
      "NATIONALITAET_KZ                0.012689\n",
      "SEMIO_DOM                       0.012031\n",
      "...                                  ...\n",
      "FINANZ_ANLEGER                 -0.010546\n",
      "KBA05_ANTG2                    -0.011970\n",
      "FINANZTYP                      -0.013590\n",
      "CAMEO_DEUG_2015_1              -0.016828\n",
      "PRAEGENDE_JUGENDJAHRE_decade   -0.017307\n",
      "OST_WEST_KZ_W                  -0.018793\n",
      "SEMIO_VERT                     -0.019493\n",
      "WOHNDAUER_2008                 -0.022209\n",
      "CAMEO_DEUG_2015_3              -0.023676\n",
      "CAMEO_DEUG_2015_4              -0.028002\n",
      "CAMEO_DEUG_2015_2              -0.032976\n",
      "CAMEO_INTL_2015_life           -0.038838\n",
      "PRAEGENDE_JUGENDJAHRE_movement -0.040044\n",
      "GREEN_AVANTGARDE               -0.040130\n",
      "ANZ_PERSONEN                   -0.047179\n",
      "GEBAEUDETYP_RASTER             -0.051573\n",
      "ONLINE_AFFINITAET              -0.054374\n",
      "LP_FAMILIE_GROB                -0.054727\n",
      "PLZ8_GBZ                       -0.061084\n",
      "BALLRAUM                       -0.063099\n",
      "INNENSTADT                     -0.076380\n",
      "KONSUMNAEHE                    -0.077265\n",
      "PLZ8_ANTG1                     -0.082068\n",
      "LP_FAMILIE_FEIN                -0.082965\n",
      "FINANZ_MINIMALIST              -0.083413\n",
      "KBA05_ANTG1                    -0.105051\n",
      "LP_STATUS_GROB                 -0.106271\n",
      "KBA05_GBZ                      -0.114499\n",
      "MOBI_REGIO                     -0.125388\n",
      "LP_STATUS_FEIN                 -0.166375\n",
      "\n",
      "[86 rows x 1 columns]\n"
     ]
    }
   ],
   "source": [
    "# Map weights for the third principal component to corresponding feature names\n",
    "# and then print the linked values, sorted by weight.\n",
    "mapWeight(scaled_azdias_2,2)\n"
   ]
  },
  {
   "cell_type": "markdown",
   "metadata": {},
   "source": [
    "### Discussion 2.3: Interpret Principal Components\n",
    "\n",
    "(Double-click this cell and replace this text with your own text, reporting your observations from detailed investigation of the first few principal components generated. Can we interpret positive and negative values from them in a meaningful way?)"
   ]
  },
  {
   "cell_type": "markdown",
   "metadata": {},
   "source": [
    "## Step 3: Clustering\n",
    "\n",
    "### Step 3.1: Apply Clustering to General Population\n",
    "\n",
    "You've assessed and cleaned the demographics data, then scaled and transformed them. Now, it's time to see how the data clusters in the principal components space. In this substep, you will apply k-means clustering to the dataset and use the average within-cluster distances from each point to their assigned cluster's centroid to decide on a number of clusters to keep.\n",
    "\n",
    "- Use sklearn's [KMeans](http://scikit-learn.org/stable/modules/generated/sklearn.cluster.KMeans.html#sklearn.cluster.KMeans) class to perform k-means clustering on the PCA-transformed data.\n",
    "- Then, compute the average difference from each point to its assigned cluster's center. **Hint**: The KMeans object's `.score()` method might be useful here, but note that in sklearn, scores tend to be defined so that larger is better. Try applying it to a small, toy dataset, or use an internet search to help your understanding.\n",
    "- Perform the above two steps for a number of different cluster counts. You can then see how the average distance decreases with an increasing number of clusters. However, each additional cluster provides a smaller net benefit. Use this fact to select a final number of clusters in which to group the data. **Warning**: because of the large size of the dataset, it can take a long time for the algorithm to resolve. The more clusters to fit, the longer the algorithm will take. You should test for cluster counts through at least 10 clusters to get the full picture, but you shouldn't need to test for a number of clusters above about 30.\n",
    "- Once you've selected a final number of clusters to use, re-fit a KMeans instance to perform the clustering operation. Make sure that you also obtain the cluster assignments for the general demographics data, since you'll be using them in the final Step 3.3."
   ]
  },
  {
   "cell_type": "code",
   "execution_count": 55,
   "metadata": {},
   "outputs": [],
   "source": [
    "# Over a number of different cluster counts...\n",
    "\n",
    "\n",
    "#define a function to get the KMeans score\n",
    "\n",
    "    # run k-means clustering on the data and...\n",
    "    \n",
    "    \n",
    "    # compute the average within-cluster distances.\n",
    "    \n",
    "def kmeans_score(data, center):\n",
    "    kmeans = KMeans(n_clusters=center)\n",
    "    model = kmeans.fit(data)\n",
    "    score = np.abs(model.score(data))\n",
    "    return score\n",
    "   "
   ]
  },
  {
   "cell_type": "code",
   "execution_count": null,
   "metadata": {
    "scrolled": false
   },
   "outputs": [],
   "source": [
    "# Investigate the change in within-cluster distance across number of clusters.\n",
    "# HINT: Use matplotlib's plot function to visualize this relationship.\n",
    "scores = []\n",
    "centers = list(range(1,11))\n",
    "\n",
    "for center in centers:\n",
    "    scores.append(kmeans_score(principalDf, center))\n",
    "    \n",
    "plt.plot(centers, scores, linestyle='--', marker='o', color='b')\n",
    "plt.xlabel('K')\n",
    "plt.ylabel('SSE')\n",
    "\n"
   ]
  },
  {
   "cell_type": "code",
   "execution_count": null,
   "metadata": {},
   "outputs": [],
   "source": [
    "principalDf"
   ]
  },
  {
   "cell_type": "code",
   "execution_count": null,
   "metadata": {},
   "outputs": [],
   "source": [
    "# Re-fit the k-means model with the selected number of clusters and obtain\n",
    "# cluster predictions for the general population demographics data.\n",
    "kmeans = KMeans(n_clusters=2)\n",
    "principalDf_clustered = kmeans.fit_predict(principalDf)\n",
    "#labels = model.predict(principalDf)\n",
    "\n",
    "# Define our own color map\n",
    "LABEL_COLOR_MAP = {0 : 'r',1 : 'g'}\n",
    "label_color = [LABEL_COLOR_MAP[l] for l in principalDf_clustered]\n",
    "\n",
    "# Plot the scatter digram\n",
    "plt.figure(figsize = (7,7))\n",
    "plt.scatter(principalComponents[:,0],principalComponents[:,1], c= label_color, alpha=0.5) \n",
    "plt.show()\n"
   ]
  },
  {
   "cell_type": "markdown",
   "metadata": {},
   "source": [
    "### Discussion 3.1: Apply Clustering to General Population\n",
    "\n",
    "(Double-click this cell and replace this text with your own text, reporting your findings and decisions regarding clustering. Into how many clusters have you decided to segment the population?)\n",
    "After trying upto 10 cluster centers, I found the sum of squared errors (SSE) is getting flat after 2 cluster centers, so I decided to use 2 clusters to segment the population. "
   ]
  },
  {
   "cell_type": "markdown",
   "metadata": {},
   "source": [
    "### Step 3.2: Apply All Steps to the Customer Data\n",
    "\n",
    "Now that you have clusters and cluster centers for the general population, it's time to see how the customer data maps on to those clusters. Take care to not confuse this for re-fitting all of the models to the customer data. Instead, you're going to use the fits from the general population to clean, transform, and cluster the customer data. In the last step of the project, you will interpret how the general population fits apply to the customer data.\n",
    "\n",
    "- Don't forget when loading in the customers data, that it is semicolon (`;`) delimited.\n",
    "- Apply the same feature wrangling, selection, and engineering steps to the customer demographics using the `clean_data()` function you created earlier. (You can assume that the customer demographics data has similar meaning behind missing data patterns as the general demographics data.)\n",
    "- Use the sklearn objects from the general demographics data, and apply their transformations to the customers data. That is, you should not be using a `.fit()` or `.fit_transform()` method to re-fit the old objects, nor should you be creating new sklearn objects! Carry the data through the feature scaling, PCA, and clustering steps, obtaining cluster assignments for all of the data in the customer demographics data."
   ]
  },
  {
   "cell_type": "code",
   "execution_count": null,
   "metadata": {},
   "outputs": [],
   "source": [
    "# Load in the customer demographics data.\n",
    "customers = pd.read_csv('Udacity_AZDIAS_Subset.csv', sep = \";\") "
   ]
  },
  {
   "cell_type": "code",
   "execution_count": null,
   "metadata": {},
   "outputs": [],
   "source": [
    "# Apply preprocessing, feature transformation, and clustering from the general\n",
    "# demographics onto the customer data, obtaining cluster predictions for the\n",
    "# customer demographics data.\n",
    "clean_data(customers, feat_info)"
   ]
  },
  {
   "cell_type": "markdown",
   "metadata": {},
   "source": [
    "### Step 3.3: Compare Customer Data to Demographics Data\n",
    "\n",
    "At this point, you have clustered data based on demographics of the general population of Germany, and seen how the customer data for a mail-order sales company maps onto those demographic clusters. In this final substep, you will compare the two cluster distributions to see where the strongest customer base for the company is.\n",
    "\n",
    "Consider the proportion of persons in each cluster for the general population, and the proportions for the customers. If we think the company's customer base to be universal, then the cluster assignment proportions should be fairly similar between the two. If there are only particular segments of the population that are interested in the company's products, then we should see a mismatch from one to the other. If there is a higher proportion of persons in a cluster for the customer data compared to the general population (e.g. 5% of persons are assigned to a cluster for the general population, but 15% of the customer data is closest to that cluster's centroid) then that suggests the people in that cluster to be a target audience for the company. On the other hand, the proportion of the data in a cluster being larger in the general population than the customer data (e.g. only 2% of customers closest to a population centroid that captures 6% of the data) suggests that group of persons to be outside of the target demographics.\n",
    "\n",
    "Take a look at the following points in this step:\n",
    "\n",
    "- Compute the proportion of data points in each cluster for the general population and the customer data. Visualizations will be useful here: both for the individual dataset proportions, but also to visualize the ratios in cluster representation between groups. Seaborn's [`countplot()`](https://seaborn.pydata.org/generated/seaborn.countplot.html) or [`barplot()`](https://seaborn.pydata.org/generated/seaborn.barplot.html) function could be handy.\n",
    "  - Recall the analysis you performed in step 1.1.3 of the project, where you separated out certain data points from the dataset if they had more than a specified threshold of missing values. If you found that this group was qualitatively different from the main bulk of the data, you should treat this as an additional data cluster in this analysis. Make sure that you account for the number of data points in this subset, for both the general population and customer datasets, when making your computations!\n",
    "- Which cluster or clusters are overrepresented in the customer dataset compared to the general population? Select at least one such cluster and infer what kind of people might be represented by that cluster. Use the principal component interpretations from step 2.3 or look at additional components to help you make this inference. Alternatively, you can use the `.inverse_transform()` method of the PCA and StandardScaler objects to transform centroids back to the original data space and interpret the retrieved values directly.\n",
    "- Perform a similar investigation for the underrepresented clusters. Which cluster or clusters are underrepresented in the customer dataset compared to the general population, and what kinds of people are typified by these clusters?"
   ]
  },
  {
   "cell_type": "code",
   "execution_count": null,
   "metadata": {},
   "outputs": [],
   "source": [
    "# Compare the proportion of data in each cluster for the customer data to the\n",
    "# proportion of data in each cluster for the general population.\n",
    "\n"
   ]
  },
  {
   "cell_type": "code",
   "execution_count": null,
   "metadata": {},
   "outputs": [],
   "source": [
    "# What kinds of people are part of a cluster that is overrepresented in the\n",
    "# customer data compared to the general population?\n",
    "\n"
   ]
  },
  {
   "cell_type": "code",
   "execution_count": null,
   "metadata": {},
   "outputs": [],
   "source": [
    "# What kinds of people are part of a cluster that is underrepresented in the\n",
    "# customer data compared to the general population?\n",
    "\n"
   ]
  },
  {
   "cell_type": "markdown",
   "metadata": {},
   "source": [
    "### Discussion 3.3: Compare Customer Data to Demographics Data\n",
    "\n",
    "(Double-click this cell and replace this text with your own text, reporting findings and conclusions from the clustering analysis. Can we describe segments of the population that are relatively popular with the mail-order company, or relatively unpopular with the company?)"
   ]
  },
  {
   "cell_type": "markdown",
   "metadata": {},
   "source": [
    "> Congratulations on making it this far in the project! Before you finish, make sure to check through the entire notebook from top to bottom to make sure that your analysis follows a logical flow and all of your findings are documented in **Discussion** cells. Once you've checked over all of your work, you should export the notebook as an HTML document to submit for evaluation. You can do this from the menu, navigating to **File -> Download as -> HTML (.html)**. You will submit both that document and this notebook for your project submission."
   ]
  },
  {
   "cell_type": "code",
   "execution_count": null,
   "metadata": {},
   "outputs": [],
   "source": []
  }
 ],
 "metadata": {
  "kernelspec": {
   "display_name": "Python 3",
   "language": "python",
   "name": "python3"
  },
  "language_info": {
   "codemirror_mode": {
    "name": "ipython",
    "version": 3
   },
   "file_extension": ".py",
   "mimetype": "text/x-python",
   "name": "python",
   "nbconvert_exporter": "python",
   "pygments_lexer": "ipython3",
   "version": "3.6.3"
  }
 },
 "nbformat": 4,
 "nbformat_minor": 2
}
